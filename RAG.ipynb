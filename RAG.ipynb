{
 "cells": [
  {
   "cell_type": "markdown",
   "id": "8a3d6f17",
   "metadata": {},
   "source": [
    "# Parse JSON"
   ]
  },
  {
   "cell_type": "code",
   "execution_count": 63,
   "id": "00b6ea91",
   "metadata": {},
   "outputs": [],
   "source": [
    "import json\n",
    "import re"
   ]
  },
  {
   "cell_type": "code",
   "execution_count": 2,
   "id": "9df20a66",
   "metadata": {},
   "outputs": [],
   "source": [
    "with open('menu.json','r') as f:\n",
    "    menu = json.load(f)"
   ]
  },
  {
   "cell_type": "code",
   "execution_count": 14,
   "id": "a953cb35",
   "metadata": {},
   "outputs": [],
   "source": [
    "location = menu.pop('Location')\n",
    "menus = menu.pop('Menus')"
   ]
  },
  {
   "cell_type": "code",
   "execution_count": 17,
   "id": "6f683615",
   "metadata": {},
   "outputs": [],
   "source": [
    "index2el = {0:'name',1:'price',2:'moreInfo'}"
   ]
  },
  {
   "cell_type": "code",
   "execution_count": 18,
   "id": "eaf2eecf",
   "metadata": {},
   "outputs": [],
   "source": [
    "for k,v in menu.items():\n",
    "    for food,info in v.items():\n",
    "        v[food] = {index2el[i]:el for i,el in enumerate(info)}"
   ]
  },
  {
   "cell_type": "code",
   "execution_count": 20,
   "id": "87b6eb0a",
   "metadata": {},
   "outputs": [
    {
     "name": "stdout",
     "output_type": "stream",
     "text": [
      "Collecting flatten_json\n",
      "  Obtaining dependency information for flatten_json from https://files.pythonhosted.org/packages/63/b5/99f20a19b839e04fffab924be192681b797b40bcf83abdfa508371c6273c/flatten_json-0.1.14-py3-none-any.whl.metadata\n",
      "  Downloading flatten_json-0.1.14-py3-none-any.whl.metadata (4.2 kB)\n",
      "Requirement already satisfied: six in /Users/lucapetru/miniconda3/envs/DataScienceEnv/lib/python3.11/site-packages (from flatten_json) (1.16.0)\n",
      "Downloading flatten_json-0.1.14-py3-none-any.whl (8.0 kB)\n",
      "Installing collected packages: flatten_json\n",
      "Successfully installed flatten_json-0.1.14\n"
     ]
    }
   ],
   "source": [
    "!pip install flatten_json"
   ]
  },
  {
   "cell_type": "code",
   "execution_count": 21,
   "id": "40a5f57b",
   "metadata": {},
   "outputs": [],
   "source": [
    "from flatten_json import flatten"
   ]
  },
  {
   "cell_type": "code",
   "execution_count": 22,
   "id": "1e92cfed",
   "metadata": {},
   "outputs": [],
   "source": [
    "menu_flatten = flatten(menu)"
   ]
  },
  {
   "cell_type": "code",
   "execution_count": 23,
   "id": "93da3234",
   "metadata": {},
   "outputs": [
    {
     "data": {
      "text/plain": [
       "{'Chicken_C1_name': 'Original Recipe',\n",
       " 'Chicken_C1_price': 3.5,\n",
       " 'Chicken_C1_moreInfo_nutritionalInfo_kcal': 400,\n",
       " 'Chicken_C1_moreInfo_nutritionalInfo_fat': 22,\n",
       " 'Chicken_C1_moreInfo_nutritionalInfo_protein': 28,\n",
       " 'Chicken_C1_moreInfo_nutritionalInfo_itemId': 4,\n",
       " 'Chicken_C1_moreInfo_nutritionalInfo_allergens_0': 'wheat',\n",
       " 'Chicken_C1_moreInfo_nutritionalInfo_allergens_1': 'soy',\n",
       " 'Chicken_C1_moreInfo_available': False,\n",
       " 'Chicken_C2_name': 'Popcorn Chicken',\n",
       " 'Chicken_C2_price': 4,\n",
       " 'Chicken_C2_moreInfo_nutritionalInfo_kcal': 350,\n",
       " 'Chicken_C2_moreInfo_nutritionalInfo_fat': 20,\n",
       " 'Chicken_C2_moreInfo_nutritionalInfo_protein': 25,\n",
       " 'Chicken_C2_moreInfo_nutritionalInfo_itemId': 6,\n",
       " 'Chicken_C2_moreInfo_nutritionalInfo_allergens_0': 'wheat',\n",
       " 'Chicken_C2_moreInfo_nutritionalInfo_allergens_1': 'soy',\n",
       " 'Chicken_C2_moreInfo_available': False,\n",
       " 'Chicken_C4_name': 'Hot Wings',\n",
       " 'Chicken_C4_price': 3,\n",
       " 'Chicken_C4_moreInfo_nutritionalInfo_kcal': 270,\n",
       " 'Chicken_C4_moreInfo_nutritionalInfo_fat': 18,\n",
       " 'Chicken_C4_moreInfo_nutritionalInfo_protein': 19,\n",
       " 'Chicken_C4_moreInfo_nutritionalInfo_itemId': 5,\n",
       " 'Chicken_C4_moreInfo_nutritionalInfo_allergens_0': 'wheat',\n",
       " 'Chicken_C4_moreInfo_available': False,\n",
       " 'Chicken_C5_name': 'Snackbox',\n",
       " 'Chicken_C5_price': 15,\n",
       " 'Chicken_C5_moreInfo_nutritionalInfo_kcal': 150,\n",
       " 'Chicken_C5_moreInfo_nutritionalInfo_fat': 100,\n",
       " 'Chicken_C5_moreInfo_nutritionalInfo_protein': 10,\n",
       " 'Chicken_C5_moreInfo_nutritionalInfo_itemId': 69,\n",
       " 'Chicken_C5_moreInfo_nutritionalInfo_allergens_0': '',\n",
       " 'Chicken_C5_moreInfo_available': False,\n",
       " 'Chicken_C6_name': 'Crispy Tenders',\n",
       " 'Chicken_C6_price': 15,\n",
       " 'Chicken_C6_moreInfo_nutritionalInfo_kcal': 150,\n",
       " 'Chicken_C6_moreInfo_nutritionalInfo_fat': 100,\n",
       " 'Chicken_C6_moreInfo_nutritionalInfo_protein': 10,\n",
       " 'Chicken_C6_moreInfo_nutritionalInfo_itemId': 70,\n",
       " 'Chicken_C6_moreInfo_nutritionalInfo_allergens_0': '',\n",
       " 'Chicken_C6_moreInfo_available': False,\n",
       " 'Chicken_C7_name': 'Original Piece',\n",
       " 'Chicken_C7_price': 15,\n",
       " 'Chicken_C7_moreInfo_nutritionalInfo_kcal': 150,\n",
       " 'Chicken_C7_moreInfo_nutritionalInfo_fat': 100,\n",
       " 'Chicken_C7_moreInfo_nutritionalInfo_protein': 10,\n",
       " 'Chicken_C7_moreInfo_nutritionalInfo_itemId': 76,\n",
       " 'Chicken_C7_moreInfo_nutritionalInfo_allergens_0': '',\n",
       " 'Chicken_C7_moreInfo_available': False,\n",
       " 'Chicken_C8_name': 'Tender Chicken',\n",
       " 'Chicken_C8_price': 15,\n",
       " 'Chicken_C8_moreInfo_nutritionalInfo_kcal': 150,\n",
       " 'Chicken_C8_moreInfo_nutritionalInfo_fat': 100,\n",
       " 'Chicken_C8_moreInfo_nutritionalInfo_protein': 10,\n",
       " 'Chicken_C8_moreInfo_nutritionalInfo_itemId': 81,\n",
       " 'Chicken_C8_moreInfo_nutritionalInfo_allergens_0': '',\n",
       " 'Chicken_C8_moreInfo_available': False,\n",
       " 'Drinks_D1_name': 'Iced Tea',\n",
       " 'Drinks_D1_price': 2.8,\n",
       " 'Drinks_D1_moreInfo_nutritionalInfo_kcal': 340,\n",
       " 'Drinks_D1_moreInfo_nutritionalInfo_fat': 17,\n",
       " 'Drinks_D1_moreInfo_nutritionalInfo_protein': 4,\n",
       " 'Drinks_D1_moreInfo_nutritionalInfo_itemId': 12,\n",
       " 'Drinks_D1_moreInfo_nutritionalInfo_allergens_0': 'wheat',\n",
       " 'Drinks_D1_moreInfo_available': False,\n",
       " 'Drinks_D2_name': 'Pepsi',\n",
       " 'Drinks_D2_price': 2.8,\n",
       " 'Drinks_D2_moreInfo_nutritionalInfo_kcal': 170,\n",
       " 'Drinks_D2_moreInfo_nutritionalInfo_fat': 10,\n",
       " 'Drinks_D2_moreInfo_nutritionalInfo_protein': 2,\n",
       " 'Drinks_D2_moreInfo_nutritionalInfo_itemId': 9,\n",
       " 'Drinks_D2_moreInfo_nutritionalInfo_allergens_0': 'dairy',\n",
       " 'Drinks_D2_moreInfo_available': False,\n",
       " 'Drinks_D3_name': '7Up',\n",
       " 'Drinks_D3_price': 2.8,\n",
       " 'Drinks_D3_moreInfo_nutritionalInfo_kcal': 340,\n",
       " 'Drinks_D3_moreInfo_nutritionalInfo_fat': 17,\n",
       " 'Drinks_D3_moreInfo_nutritionalInfo_protein': 4,\n",
       " 'Drinks_D3_moreInfo_nutritionalInfo_itemId': 10,\n",
       " 'Drinks_D3_moreInfo_nutritionalInfo_allergens_0': 'wheat',\n",
       " 'Drinks_D3_moreInfo_available': False,\n",
       " 'Drinks_D4_name': 'Fanta',\n",
       " 'Drinks_D4_price': 2.8,\n",
       " 'Drinks_D4_moreInfo_nutritionalInfo_kcal': 170,\n",
       " 'Drinks_D4_moreInfo_nutritionalInfo_fat': 10,\n",
       " 'Drinks_D4_moreInfo_nutritionalInfo_protein': 2,\n",
       " 'Drinks_D4_moreInfo_nutritionalInfo_itemId': 11,\n",
       " 'Drinks_D4_moreInfo_nutritionalInfo_allergens_0': 'dairy',\n",
       " 'Drinks_D4_moreInfo_available': False,\n",
       " 'Drinks_D5_name': 'Sourcy',\n",
       " 'Drinks_D5_price': 15,\n",
       " 'Drinks_D5_moreInfo_available': False,\n",
       " 'Drinks_D6_name': 'Tropicana Apple',\n",
       " 'Drinks_D6_price': 15,\n",
       " 'Drinks_D6_moreInfo_available': False,\n",
       " 'Drinks_D7_name': 'Guava',\n",
       " 'Drinks_D7_price': 15,\n",
       " 'Drinks_D7_moreInfo_available': False,\n",
       " 'Drinks_D8_name': 'Tea',\n",
       " 'Drinks_D8_price': 15,\n",
       " 'Drinks_D8_moreInfo_available': False,\n",
       " 'Drinks_D9_name': 'Latte',\n",
       " 'Drinks_D9_price': 15,\n",
       " 'Drinks_D9_moreInfo_available': False,\n",
       " 'Drinks_D10_name': 'Espresso',\n",
       " 'Drinks_D10_price': 15,\n",
       " 'Drinks_D10_moreInfo_available': False,\n",
       " 'Drinks_D11_name': 'Coffee',\n",
       " 'Drinks_D11_price': 15,\n",
       " 'Drinks_D11_moreInfo_available': False,\n",
       " 'Drinks_D12_name': 'Sisi',\n",
       " 'Drinks_D12_price': 15,\n",
       " 'Drinks_D12_moreInfo_available': False,\n",
       " 'Drinks_D13_name': 'Fernandes',\n",
       " 'Drinks_D13_price': 15,\n",
       " 'Drinks_D13_moreInfo_available': False,\n",
       " 'Drinks_D14_name': 'Lipton',\n",
       " 'Drinks_D14_price': 15,\n",
       " 'Drinks_D14_moreInfo_available': False,\n",
       " 'Burgers_B1_name': 'Crunch Burger',\n",
       " 'Burgers_B1_price': 15,\n",
       " 'Burgers_B1_moreInfo_nutritionalInfo_kcal': 150,\n",
       " 'Burgers_B1_moreInfo_nutritionalInfo_fat': 100,\n",
       " 'Burgers_B1_moreInfo_nutritionalInfo_protein': 10,\n",
       " 'Burgers_B1_moreInfo_nutritionalInfo_itemId': 77,\n",
       " 'Burgers_B1_moreInfo_nutritionalInfo_allergens_0': '',\n",
       " 'Burgers_B1_moreInfo_available': False,\n",
       " 'Burgers_B2_name': 'Original Fillet Breaded',\n",
       " 'Burgers_B2_price': 15,\n",
       " 'Burgers_B2_moreInfo_nutritionalInfo_kcal': 150,\n",
       " 'Burgers_B2_moreInfo_nutritionalInfo_fat': 100,\n",
       " 'Burgers_B2_moreInfo_nutritionalInfo_protein': 10,\n",
       " 'Burgers_B2_moreInfo_nutritionalInfo_itemId': 84,\n",
       " 'Burgers_B2_moreInfo_nutritionalInfo_allergens_0': '',\n",
       " 'Burgers_B2_moreInfo_available': False,\n",
       " 'Burgers_B3_name': 'Original Fillet',\n",
       " 'Burgers_B3_price': 15,\n",
       " 'Burgers_B3_moreInfo_available': False,\n",
       " 'Burgers_B4_name': 'Filet Burger',\n",
       " 'Burgers_B4_price': 4.7,\n",
       " 'Burgers_B4_moreInfo_nutritionalInfo_kcal': 400,\n",
       " 'Burgers_B4_moreInfo_nutritionalInfo_fat': 20,\n",
       " 'Burgers_B4_moreInfo_nutritionalInfo_protein': 27,\n",
       " 'Burgers_B4_moreInfo_nutritionalInfo_itemId': 3,\n",
       " 'Burgers_B4_moreInfo_nutritionalInfo_allergens_0': 'wheat',\n",
       " 'Burgers_B4_moreInfo_nutritionalInfo_allergens_1': 'soy',\n",
       " 'Burgers_B4_moreInfo_available': False,\n",
       " 'Burgers_B5_name': 'Zinger Burger',\n",
       " 'Burgers_B5_price': 4.5,\n",
       " 'Burgers_B5_moreInfo_nutritionalInfo_kcal': 451,\n",
       " 'Burgers_B5_moreInfo_nutritionalInfo_fat': 25,\n",
       " 'Burgers_B5_moreInfo_nutritionalInfo_protein': 28,\n",
       " 'Burgers_B5_moreInfo_nutritionalInfo_itemId': 1,\n",
       " 'Burgers_B5_moreInfo_nutritionalInfo_allergens_0': 'wheat',\n",
       " 'Burgers_B5_moreInfo_nutritionalInfo_allergens_1': 'soy',\n",
       " 'Burgers_B5_moreInfo_available': False,\n",
       " 'Burgers_B6_name': 'Tower Burger',\n",
       " 'Burgers_B6_price': 5.2,\n",
       " 'Burgers_B6_moreInfo_nutritionalInfo_kcal': 500,\n",
       " 'Burgers_B6_moreInfo_nutritionalInfo_fat': 30,\n",
       " 'Burgers_B6_moreInfo_nutritionalInfo_protein': 30,\n",
       " 'Burgers_B6_moreInfo_nutritionalInfo_itemId': 2,\n",
       " 'Burgers_B6_moreInfo_nutritionalInfo_allergens_0': 'wheat',\n",
       " 'Burgers_B6_moreInfo_nutritionalInfo_allergens_1': 'soy',\n",
       " 'Burgers_B6_moreInfo_available': False,\n",
       " 'Burgers_B7_name': 'Veggie Burger',\n",
       " 'Burgers_B7_price': 10,\n",
       " 'Burgers_B7_moreInfo_nutritionalInfo_kcal': 150,\n",
       " 'Burgers_B7_moreInfo_nutritionalInfo_fat': 100,\n",
       " 'Burgers_B7_moreInfo_nutritionalInfo_protein': 10,\n",
       " 'Burgers_B7_moreInfo_nutritionalInfo_itemId': 63,\n",
       " 'Burgers_B7_moreInfo_nutritionalInfo_allergens_0': 'whey',\n",
       " 'Burgers_B7_moreInfo_nutritionalInfo_allergens_1': 'soy',\n",
       " 'Burgers_B7_moreInfo_available': False,\n",
       " 'Burgers_B8_name': 'Fire Zinger Stacker',\n",
       " 'Burgers_B8_price': 15,\n",
       " 'Burgers_B8_moreInfo_nutritionalInfo_kcal': 150,\n",
       " 'Burgers_B8_moreInfo_nutritionalInfo_fat': 100,\n",
       " 'Burgers_B8_moreInfo_nutritionalInfo_protein': 10,\n",
       " 'Burgers_B8_moreInfo_nutritionalInfo_itemId': 64,\n",
       " 'Burgers_B8_moreInfo_nutritionalInfo_allergens_0': '',\n",
       " 'Burgers_B8_moreInfo_available': False,\n",
       " 'Burgers_B9_name': 'Fire Zinger',\n",
       " 'Burgers_B9_price': 15,\n",
       " 'Burgers_B9_moreInfo_nutritionalInfo_kcal': 100,\n",
       " 'Burgers_B9_moreInfo_nutritionalInfo_fat': 100,\n",
       " 'Burgers_B9_moreInfo_nutritionalInfo_protein': 10,\n",
       " 'Burgers_B9_moreInfo_nutritionalInfo_itemId': 65,\n",
       " 'Burgers_B9_moreInfo_nutritionalInfo_allergens_0': '',\n",
       " 'Burgers_B9_moreInfo_available': False,\n",
       " 'Burgers_B10_name': 'Colonel Stacker',\n",
       " 'Burgers_B10_price': 15,\n",
       " 'Burgers_B10_moreInfo_nutritionalInfo_kcal': 150,\n",
       " 'Burgers_B10_moreInfo_nutritionalInfo_fat': 100,\n",
       " 'Burgers_B10_moreInfo_nutritionalInfo_protein': 10,\n",
       " 'Burgers_B10_moreInfo_nutritionalInfo_itemId': 66,\n",
       " 'Burgers_B10_moreInfo_nutritionalInfo_allergens_0': '',\n",
       " 'Burgers_B10_moreInfo_available': False,\n",
       " 'Burgers_B11_name': 'Colonel Burger',\n",
       " 'Burgers_B11_price': 15,\n",
       " 'Burgers_B11_moreInfo_nutritionalInfo_kcal': 150,\n",
       " 'Burgers_B11_moreInfo_nutritionalInfo_fat': 100,\n",
       " 'Burgers_B11_moreInfo_nutritionalInfo_protein': 10,\n",
       " 'Burgers_B11_moreInfo_nutritionalInfo_itemId': 67,\n",
       " 'Burgers_B11_moreInfo_nutritionalInfo_allergens_0': '',\n",
       " 'Burgers_B11_moreInfo_available': False,\n",
       " 'Burgers_B12_name': 'Veggie Tender',\n",
       " 'Burgers_B12_price': 15,\n",
       " 'Burgers_B12_moreInfo_nutritionalInfo_kcal': 150,\n",
       " 'Burgers_B12_moreInfo_nutritionalInfo_fat': 100,\n",
       " 'Burgers_B12_moreInfo_nutritionalInfo_protein': 10,\n",
       " 'Burgers_B12_moreInfo_nutritionalInfo_itemId': 71,\n",
       " 'Burgers_B12_moreInfo_nutritionalInfo_allergens_0': '',\n",
       " 'Burgers_B12_moreInfo_available': False,\n",
       " 'Burgers_B13_name': 'Filet Bites',\n",
       " 'Burgers_B13_price': 15,\n",
       " 'Burgers_B13_moreInfo_nutritionalInfo_kcal': 150,\n",
       " 'Burgers_B13_moreInfo_nutritionalInfo_fat': 100,\n",
       " 'Burgers_B13_moreInfo_nutritionalInfo_protein': 10,\n",
       " 'Burgers_B13_moreInfo_nutritionalInfo_itemId': 68,\n",
       " 'Burgers_B13_moreInfo_nutritionalInfo_allergens_0': '',\n",
       " 'Burgers_B13_moreInfo_available': False,\n",
       " 'Burgers_B14_name': 'Original Burger',\n",
       " 'Burgers_B14_price': 15,\n",
       " 'Burgers_B14_moreInfo_nutritionalInfo_kcal': 150,\n",
       " 'Burgers_B14_moreInfo_nutritionalInfo_fat': 100,\n",
       " 'Burgers_B14_moreInfo_nutritionalInfo_protein': 10,\n",
       " 'Burgers_B14_moreInfo_nutritionalInfo_itemId': 74,\n",
       " 'Burgers_B14_moreInfo_nutritionalInfo_allergens_0': '',\n",
       " 'Burgers_B14_moreInfo_available': False,\n",
       " 'Burgers_B15_name': 'Zinger Burger',\n",
       " 'Burgers_B15_price': 15,\n",
       " 'Burgers_B15_moreInfo_nutritionalInfo_kcal': 150,\n",
       " 'Burgers_B15_moreInfo_nutritionalInfo_fat': 100,\n",
       " 'Burgers_B15_moreInfo_nutritionalInfo_protein': 10,\n",
       " 'Burgers_B15_moreInfo_nutritionalInfo_itemId': 75,\n",
       " 'Burgers_B15_moreInfo_nutritionalInfo_allergens_0': '',\n",
       " 'Burgers_B15_moreInfo_available': False,\n",
       " 'Burgers_B16_name': 'Cheeseburger',\n",
       " 'Burgers_B16_price': 15,\n",
       " 'Burgers_B16_moreInfo_nutritionalInfo_kcal': 150,\n",
       " 'Burgers_B16_moreInfo_nutritionalInfo_fat': 100,\n",
       " 'Burgers_B16_moreInfo_nutritionalInfo_protein': 10,\n",
       " 'Burgers_B16_moreInfo_nutritionalInfo_itemId': 82,\n",
       " 'Burgers_B16_moreInfo_nutritionalInfo_allergens_0': '',\n",
       " 'Burgers_B16_moreInfo_available': False,\n",
       " 'Burgers_B17_name': 'Zinger Filet',\n",
       " 'Burgers_B17_price': 15,\n",
       " 'Burgers_B17_moreInfo_nutritionalInfo_kcal': 150,\n",
       " 'Burgers_B17_moreInfo_nutritionalInfo_fat': 100,\n",
       " 'Burgers_B17_moreInfo_nutritionalInfo_protein': 10,\n",
       " 'Burgers_B17_moreInfo_nutritionalInfo_itemId': 83,\n",
       " 'Burgers_B17_moreInfo_nutritionalInfo_allergens_0': '',\n",
       " 'Burgers_B17_moreInfo_available': False,\n",
       " 'Sauces_S1_name': 'Apple Sauce',\n",
       " 'Sauces_S1_price': 15,\n",
       " 'Sauces_S1_moreInfo_available': False,\n",
       " 'Side dishes_SD1_name': 'Coleslaw',\n",
       " 'Side dishes_SD1_price': 1.7,\n",
       " 'Side dishes_SD1_moreInfo_nutritionalInfo_kcal': 170,\n",
       " 'Side dishes_SD1_moreInfo_nutritionalInfo_fat': 10,\n",
       " 'Side dishes_SD1_moreInfo_nutritionalInfo_protein': 2,\n",
       " 'Side dishes_SD1_moreInfo_nutritionalInfo_itemId': 7,\n",
       " 'Side dishes_SD1_moreInfo_nutritionalInfo_allergens_0': 'dairy',\n",
       " 'Side dishes_SD1_moreInfo_available': False,\n",
       " 'Side dishes_SD2_name': 'Fries',\n",
       " 'Side dishes_SD2_price': 2.5,\n",
       " 'Side dishes_SD2_moreInfo_nutritionalInfo_kcal': 340,\n",
       " 'Side dishes_SD2_moreInfo_nutritionalInfo_fat': 17,\n",
       " 'Side dishes_SD2_moreInfo_nutritionalInfo_protein': 4,\n",
       " 'Side dishes_SD2_moreInfo_nutritionalInfo_itemId': 8,\n",
       " 'Side dishes_SD2_moreInfo_nutritionalInfo_allergens_0': 'wheat',\n",
       " 'Side dishes_SD2_moreInfo_available': False,\n",
       " 'Side dishes_SD3_name': 'Corn',\n",
       " 'Side dishes_SD3_price': 15,\n",
       " 'Side dishes_SD3_moreInfo_nutritionalInfo_kcal': 150,\n",
       " 'Side dishes_SD3_moreInfo_nutritionalInfo_fat': 100,\n",
       " 'Side dishes_SD3_moreInfo_nutritionalInfo_protein': 10,\n",
       " 'Side dishes_SD3_moreInfo_nutritionalInfo_itemId': 73,\n",
       " 'Side dishes_SD3_moreInfo_nutritionalInfo_allergens_0': '',\n",
       " 'Side dishes_SD3_moreInfo_available': False,\n",
       " 'Desserts_DE1_name': 'Chocolate Sundae',\n",
       " 'Desserts_DE1_price': 2.5,\n",
       " 'Desserts_DE1_moreInfo_nutritionalInfo_kcal': 220,\n",
       " 'Desserts_DE1_moreInfo_nutritionalInfo_fat': 9,\n",
       " 'Desserts_DE1_moreInfo_nutritionalInfo_protein': 3,\n",
       " 'Desserts_DE1_moreInfo_nutritionalInfo_itemId': 13,\n",
       " 'Desserts_DE1_moreInfo_nutritionalInfo_allergens_0': 'dairy',\n",
       " 'Desserts_DE1_moreInfo_nutritionalInfo_allergens_1': 'soy',\n",
       " 'Desserts_DE1_moreInfo_available': False,\n",
       " 'Desserts_DE2_name': 'Apple Pie',\n",
       " 'Desserts_DE2_price': 2.2,\n",
       " 'Desserts_DE2_moreInfo_nutritionalInfo_kcal': 250,\n",
       " 'Desserts_DE2_moreInfo_nutritionalInfo_fat': 12,\n",
       " 'Desserts_DE2_moreInfo_nutritionalInfo_protein': 2,\n",
       " 'Desserts_DE2_moreInfo_nutritionalInfo_itemId': 14,\n",
       " 'Desserts_DE2_moreInfo_nutritionalInfo_allergens_0': 'wheat',\n",
       " 'Desserts_DE2_moreInfo_nutritionalInfo_allergens_1': 'soy',\n",
       " 'Desserts_DE2_moreInfo_available': False,\n",
       " 'Desserts_DE3_name': 'Ice Cream',\n",
       " 'Desserts_DE3_price': 15,\n",
       " 'Desserts_DE3_moreInfo_nutritionalInfo_kcal': 150,\n",
       " 'Desserts_DE3_moreInfo_nutritionalInfo_fat': 100,\n",
       " 'Desserts_DE3_moreInfo_nutritionalInfo_protein': 10,\n",
       " 'Desserts_DE3_moreInfo_nutritionalInfo_itemId': 95,\n",
       " 'Desserts_DE3_moreInfo_nutritionalInfo_allergens_0': '',\n",
       " 'Desserts_DE3_moreInfo_available': False,\n",
       " 'Vegetarian_V1_name': 'Veggie',\n",
       " 'Vegetarian_V1_price': 15,\n",
       " 'Vegetarian_V1_moreInfo_nutritionalInfo_kcal': 150,\n",
       " 'Vegetarian_V1_moreInfo_nutritionalInfo_fat': 100,\n",
       " 'Vegetarian_V1_moreInfo_nutritionalInfo_protein': 10,\n",
       " 'Vegetarian_V1_moreInfo_nutritionalInfo_itemId': 72,\n",
       " 'Vegetarian_V1_moreInfo_nutritionalInfo_allergens_0': '',\n",
       " 'Vegetarian_V1_moreInfo_available': False,\n",
       " 'Vegetarian_V2_name': 'Veggie Tenders',\n",
       " 'Vegetarian_V2_price': 15,\n",
       " 'Vegetarian_V2_moreInfo_nutritionalInfo_kcal': 150,\n",
       " 'Vegetarian_V2_moreInfo_nutritionalInfo_fat': 100,\n",
       " 'Vegetarian_V2_moreInfo_nutritionalInfo_protein': 10,\n",
       " 'Vegetarian_V2_moreInfo_nutritionalInfo_itemId': 78,\n",
       " 'Vegetarian_V2_moreInfo_nutritionalInfo_allergens_0': '',\n",
       " 'Vegetarian_V2_moreInfo_available': False}"
      ]
     },
     "execution_count": 23,
     "metadata": {},
     "output_type": "execute_result"
    }
   ],
   "source": [
    "menu_flatten"
   ]
  },
  {
   "cell_type": "code",
   "execution_count": 27,
   "id": "b339edac",
   "metadata": {},
   "outputs": [],
   "source": [
    "for m,info in menus.items():\n",
    "    for i,con in enumerate(info['contents']):\n",
    "        if isinstance(con,list):\n",
    "            info['contents'][i] = {'item':con[0],'amount':con[1]}\n",
    "        "
   ]
  },
  {
   "cell_type": "code",
   "execution_count": 29,
   "id": "e222fe42",
   "metadata": {},
   "outputs": [],
   "source": [
    "menus_flatten = flatten(menus)"
   ]
  },
  {
   "cell_type": "code",
   "execution_count": 33,
   "id": "ab203343",
   "metadata": {},
   "outputs": [
    {
     "data": {
      "text/plain": [
       "686"
      ]
     },
     "execution_count": 33,
     "metadata": {},
     "output_type": "execute_result"
    }
   ],
   "source": [
    "flattened_full_menu = {**menu_flatten,**menus_flatten}\n",
    "len(flattened_full_menu)"
   ]
  },
  {
   "cell_type": "code",
   "execution_count": 36,
   "id": "6c1a2179",
   "metadata": {},
   "outputs": [],
   "source": [
    "def break_dict_into_chunks(dictionary, chunk_size):\n",
    "    chunks = []\n",
    "    current_chunk = {}\n",
    "    count = 0\n",
    "\n",
    "    for key, value in dictionary.items():\n",
    "        current_chunk[key] = value\n",
    "        count += 1\n",
    "        if count == chunk_size:\n",
    "            chunks.append(current_chunk)\n",
    "            current_chunk = {}\n",
    "            count = 0\n",
    "\n",
    "    if current_chunk:\n",
    "        chunks.append(current_chunk)\n",
    "\n",
    "    return chunks"
   ]
  },
  {
   "cell_type": "code",
   "execution_count": 51,
   "id": "fd834737",
   "metadata": {},
   "outputs": [],
   "source": [
    "context_list = break_dict_into_chunks(flattened_full_menu,10)"
   ]
  },
  {
   "cell_type": "code",
   "execution_count": 76,
   "id": "a8665f8c",
   "metadata": {},
   "outputs": [],
   "source": [
    "def get_context_list(menu,chunks,win):\n",
    "    context_list = break_dict_into_chunks(menu,chunks)\n",
    "    \n",
    "    for i in range(1,len(context_list)):\n",
    "        prev = context_list[i-1]\n",
    "        window = {k:v for k,v in list(prev.items())[-win:]}\n",
    "        context_list[i] = {**window,**context_list[i]}\n",
    "    \n",
    "    for i,dic in enumerate(context_list):\n",
    "        con = 'passage: '\n",
    "        for k,v in dic.items():\n",
    "            con += re.sub(r'_',': ',k)+': '+str(v)+', '\n",
    "        context_list[i] = con\n",
    "    \n",
    "    return context_list"
   ]
  },
  {
   "cell_type": "code",
   "execution_count": 77,
   "id": "31932331",
   "metadata": {},
   "outputs": [],
   "source": [
    "context_list = get_context_list(flattened_full_menu,10,2)"
   ]
  },
  {
   "cell_type": "code",
   "execution_count": 78,
   "id": "7e662f18",
   "metadata": {},
   "outputs": [
    {
     "data": {
      "text/plain": [
       "['passage: Chicken: C1: name: Original Recipe, Chicken: C1: price: 3.5, Chicken: C1: moreInfo: nutritionalInfo: kcal: 400, Chicken: C1: moreInfo: nutritionalInfo: fat: 22, Chicken: C1: moreInfo: nutritionalInfo: protein: 28, Chicken: C1: moreInfo: nutritionalInfo: itemId: 4, Chicken: C1: moreInfo: nutritionalInfo: allergens: 0: wheat, Chicken: C1: moreInfo: nutritionalInfo: allergens: 1: soy, Chicken: C1: moreInfo: available: False, Chicken: C2: name: Popcorn Chicken, ',\n",
       " 'passage: Chicken: C1: moreInfo: available: False, Chicken: C2: name: Popcorn Chicken, Chicken: C2: price: 4, Chicken: C2: moreInfo: nutritionalInfo: kcal: 350, Chicken: C2: moreInfo: nutritionalInfo: fat: 20, Chicken: C2: moreInfo: nutritionalInfo: protein: 25, Chicken: C2: moreInfo: nutritionalInfo: itemId: 6, Chicken: C2: moreInfo: nutritionalInfo: allergens: 0: wheat, Chicken: C2: moreInfo: nutritionalInfo: allergens: 1: soy, Chicken: C2: moreInfo: available: False, Chicken: C4: name: Hot Wings, Chicken: C4: price: 3, ',\n",
       " 'passage: Chicken: C4: name: Hot Wings, Chicken: C4: price: 3, Chicken: C4: moreInfo: nutritionalInfo: kcal: 270, Chicken: C4: moreInfo: nutritionalInfo: fat: 18, Chicken: C4: moreInfo: nutritionalInfo: protein: 19, Chicken: C4: moreInfo: nutritionalInfo: itemId: 5, Chicken: C4: moreInfo: nutritionalInfo: allergens: 0: wheat, Chicken: C4: moreInfo: available: False, Chicken: C5: name: Snackbox, Chicken: C5: price: 15, Chicken: C5: moreInfo: nutritionalInfo: kcal: 150, Chicken: C5: moreInfo: nutritionalInfo: fat: 100, ',\n",
       " 'passage: Chicken: C5: moreInfo: nutritionalInfo: kcal: 150, Chicken: C5: moreInfo: nutritionalInfo: fat: 100, Chicken: C5: moreInfo: nutritionalInfo: protein: 10, Chicken: C5: moreInfo: nutritionalInfo: itemId: 69, Chicken: C5: moreInfo: nutritionalInfo: allergens: 0: , Chicken: C5: moreInfo: available: False, Chicken: C6: name: Crispy Tenders, Chicken: C6: price: 15, Chicken: C6: moreInfo: nutritionalInfo: kcal: 150, Chicken: C6: moreInfo: nutritionalInfo: fat: 100, Chicken: C6: moreInfo: nutritionalInfo: protein: 10, Chicken: C6: moreInfo: nutritionalInfo: itemId: 70, ',\n",
       " 'passage: Chicken: C6: moreInfo: nutritionalInfo: protein: 10, Chicken: C6: moreInfo: nutritionalInfo: itemId: 70, Chicken: C6: moreInfo: nutritionalInfo: allergens: 0: , Chicken: C6: moreInfo: available: False, Chicken: C7: name: Original Piece, Chicken: C7: price: 15, Chicken: C7: moreInfo: nutritionalInfo: kcal: 150, Chicken: C7: moreInfo: nutritionalInfo: fat: 100, Chicken: C7: moreInfo: nutritionalInfo: protein: 10, Chicken: C7: moreInfo: nutritionalInfo: itemId: 76, Chicken: C7: moreInfo: nutritionalInfo: allergens: 0: , Chicken: C7: moreInfo: available: False, ',\n",
       " 'passage: Chicken: C7: moreInfo: nutritionalInfo: allergens: 0: , Chicken: C7: moreInfo: available: False, Chicken: C8: name: Tender Chicken, Chicken: C8: price: 15, Chicken: C8: moreInfo: nutritionalInfo: kcal: 150, Chicken: C8: moreInfo: nutritionalInfo: fat: 100, Chicken: C8: moreInfo: nutritionalInfo: protein: 10, Chicken: C8: moreInfo: nutritionalInfo: itemId: 81, Chicken: C8: moreInfo: nutritionalInfo: allergens: 0: , Chicken: C8: moreInfo: available: False, Drinks: D1: name: Iced Tea, Drinks: D1: price: 2.8, ',\n",
       " 'passage: Drinks: D1: name: Iced Tea, Drinks: D1: price: 2.8, Drinks: D1: moreInfo: nutritionalInfo: kcal: 340, Drinks: D1: moreInfo: nutritionalInfo: fat: 17, Drinks: D1: moreInfo: nutritionalInfo: protein: 4, Drinks: D1: moreInfo: nutritionalInfo: itemId: 12, Drinks: D1: moreInfo: nutritionalInfo: allergens: 0: wheat, Drinks: D1: moreInfo: available: False, Drinks: D2: name: Pepsi, Drinks: D2: price: 2.8, Drinks: D2: moreInfo: nutritionalInfo: kcal: 170, Drinks: D2: moreInfo: nutritionalInfo: fat: 10, ',\n",
       " 'passage: Drinks: D2: moreInfo: nutritionalInfo: kcal: 170, Drinks: D2: moreInfo: nutritionalInfo: fat: 10, Drinks: D2: moreInfo: nutritionalInfo: protein: 2, Drinks: D2: moreInfo: nutritionalInfo: itemId: 9, Drinks: D2: moreInfo: nutritionalInfo: allergens: 0: dairy, Drinks: D2: moreInfo: available: False, Drinks: D3: name: 7Up, Drinks: D3: price: 2.8, Drinks: D3: moreInfo: nutritionalInfo: kcal: 340, Drinks: D3: moreInfo: nutritionalInfo: fat: 17, Drinks: D3: moreInfo: nutritionalInfo: protein: 4, Drinks: D3: moreInfo: nutritionalInfo: itemId: 10, ',\n",
       " 'passage: Drinks: D3: moreInfo: nutritionalInfo: protein: 4, Drinks: D3: moreInfo: nutritionalInfo: itemId: 10, Drinks: D3: moreInfo: nutritionalInfo: allergens: 0: wheat, Drinks: D3: moreInfo: available: False, Drinks: D4: name: Fanta, Drinks: D4: price: 2.8, Drinks: D4: moreInfo: nutritionalInfo: kcal: 170, Drinks: D4: moreInfo: nutritionalInfo: fat: 10, Drinks: D4: moreInfo: nutritionalInfo: protein: 2, Drinks: D4: moreInfo: nutritionalInfo: itemId: 11, Drinks: D4: moreInfo: nutritionalInfo: allergens: 0: dairy, Drinks: D4: moreInfo: available: False, ',\n",
       " 'passage: Drinks: D4: moreInfo: nutritionalInfo: allergens: 0: dairy, Drinks: D4: moreInfo: available: False, Drinks: D5: name: Sourcy, Drinks: D5: price: 15, Drinks: D5: moreInfo: available: False, Drinks: D6: name: Tropicana Apple, Drinks: D6: price: 15, Drinks: D6: moreInfo: available: False, Drinks: D7: name: Guava, Drinks: D7: price: 15, Drinks: D7: moreInfo: available: False, Drinks: D8: name: Tea, ',\n",
       " 'passage: Drinks: D7: moreInfo: available: False, Drinks: D8: name: Tea, Drinks: D8: price: 15, Drinks: D8: moreInfo: available: False, Drinks: D9: name: Latte, Drinks: D9: price: 15, Drinks: D9: moreInfo: available: False, Drinks: D10: name: Espresso, Drinks: D10: price: 15, Drinks: D10: moreInfo: available: False, Drinks: D11: name: Coffee, Drinks: D11: price: 15, ',\n",
       " 'passage: Drinks: D11: name: Coffee, Drinks: D11: price: 15, Drinks: D11: moreInfo: available: False, Drinks: D12: name: Sisi, Drinks: D12: price: 15, Drinks: D12: moreInfo: available: False, Drinks: D13: name: Fernandes, Drinks: D13: price: 15, Drinks: D13: moreInfo: available: False, Drinks: D14: name: Lipton, Drinks: D14: price: 15, Drinks: D14: moreInfo: available: False, ',\n",
       " 'passage: Drinks: D14: price: 15, Drinks: D14: moreInfo: available: False, Burgers: B1: name: Crunch Burger, Burgers: B1: price: 15, Burgers: B1: moreInfo: nutritionalInfo: kcal: 150, Burgers: B1: moreInfo: nutritionalInfo: fat: 100, Burgers: B1: moreInfo: nutritionalInfo: protein: 10, Burgers: B1: moreInfo: nutritionalInfo: itemId: 77, Burgers: B1: moreInfo: nutritionalInfo: allergens: 0: , Burgers: B1: moreInfo: available: False, Burgers: B2: name: Original Fillet Breaded, Burgers: B2: price: 15, ',\n",
       " 'passage: Burgers: B2: name: Original Fillet Breaded, Burgers: B2: price: 15, Burgers: B2: moreInfo: nutritionalInfo: kcal: 150, Burgers: B2: moreInfo: nutritionalInfo: fat: 100, Burgers: B2: moreInfo: nutritionalInfo: protein: 10, Burgers: B2: moreInfo: nutritionalInfo: itemId: 84, Burgers: B2: moreInfo: nutritionalInfo: allergens: 0: , Burgers: B2: moreInfo: available: False, Burgers: B3: name: Original Fillet, Burgers: B3: price: 15, Burgers: B3: moreInfo: available: False, Burgers: B4: name: Filet Burger, ',\n",
       " 'passage: Burgers: B3: moreInfo: available: False, Burgers: B4: name: Filet Burger, Burgers: B4: price: 4.7, Burgers: B4: moreInfo: nutritionalInfo: kcal: 400, Burgers: B4: moreInfo: nutritionalInfo: fat: 20, Burgers: B4: moreInfo: nutritionalInfo: protein: 27, Burgers: B4: moreInfo: nutritionalInfo: itemId: 3, Burgers: B4: moreInfo: nutritionalInfo: allergens: 0: wheat, Burgers: B4: moreInfo: nutritionalInfo: allergens: 1: soy, Burgers: B4: moreInfo: available: False, Burgers: B5: name: Zinger Burger, Burgers: B5: price: 4.5, ',\n",
       " 'passage: Burgers: B5: name: Zinger Burger, Burgers: B5: price: 4.5, Burgers: B5: moreInfo: nutritionalInfo: kcal: 451, Burgers: B5: moreInfo: nutritionalInfo: fat: 25, Burgers: B5: moreInfo: nutritionalInfo: protein: 28, Burgers: B5: moreInfo: nutritionalInfo: itemId: 1, Burgers: B5: moreInfo: nutritionalInfo: allergens: 0: wheat, Burgers: B5: moreInfo: nutritionalInfo: allergens: 1: soy, Burgers: B5: moreInfo: available: False, Burgers: B6: name: Tower Burger, Burgers: B6: price: 5.2, Burgers: B6: moreInfo: nutritionalInfo: kcal: 500, ',\n",
       " 'passage: Burgers: B6: price: 5.2, Burgers: B6: moreInfo: nutritionalInfo: kcal: 500, Burgers: B6: moreInfo: nutritionalInfo: fat: 30, Burgers: B6: moreInfo: nutritionalInfo: protein: 30, Burgers: B6: moreInfo: nutritionalInfo: itemId: 2, Burgers: B6: moreInfo: nutritionalInfo: allergens: 0: wheat, Burgers: B6: moreInfo: nutritionalInfo: allergens: 1: soy, Burgers: B6: moreInfo: available: False, Burgers: B7: name: Veggie Burger, Burgers: B7: price: 10, Burgers: B7: moreInfo: nutritionalInfo: kcal: 150, Burgers: B7: moreInfo: nutritionalInfo: fat: 100, ',\n",
       " 'passage: Burgers: B7: moreInfo: nutritionalInfo: kcal: 150, Burgers: B7: moreInfo: nutritionalInfo: fat: 100, Burgers: B7: moreInfo: nutritionalInfo: protein: 10, Burgers: B7: moreInfo: nutritionalInfo: itemId: 63, Burgers: B7: moreInfo: nutritionalInfo: allergens: 0: whey, Burgers: B7: moreInfo: nutritionalInfo: allergens: 1: soy, Burgers: B7: moreInfo: available: False, Burgers: B8: name: Fire Zinger Stacker, Burgers: B8: price: 15, Burgers: B8: moreInfo: nutritionalInfo: kcal: 150, Burgers: B8: moreInfo: nutritionalInfo: fat: 100, Burgers: B8: moreInfo: nutritionalInfo: protein: 10, ',\n",
       " 'passage: Burgers: B8: moreInfo: nutritionalInfo: fat: 100, Burgers: B8: moreInfo: nutritionalInfo: protein: 10, Burgers: B8: moreInfo: nutritionalInfo: itemId: 64, Burgers: B8: moreInfo: nutritionalInfo: allergens: 0: , Burgers: B8: moreInfo: available: False, Burgers: B9: name: Fire Zinger, Burgers: B9: price: 15, Burgers: B9: moreInfo: nutritionalInfo: kcal: 100, Burgers: B9: moreInfo: nutritionalInfo: fat: 100, Burgers: B9: moreInfo: nutritionalInfo: protein: 10, Burgers: B9: moreInfo: nutritionalInfo: itemId: 65, Burgers: B9: moreInfo: nutritionalInfo: allergens: 0: , ',\n",
       " 'passage: Burgers: B9: moreInfo: nutritionalInfo: itemId: 65, Burgers: B9: moreInfo: nutritionalInfo: allergens: 0: , Burgers: B9: moreInfo: available: False, Burgers: B10: name: Colonel Stacker, Burgers: B10: price: 15, Burgers: B10: moreInfo: nutritionalInfo: kcal: 150, Burgers: B10: moreInfo: nutritionalInfo: fat: 100, Burgers: B10: moreInfo: nutritionalInfo: protein: 10, Burgers: B10: moreInfo: nutritionalInfo: itemId: 66, Burgers: B10: moreInfo: nutritionalInfo: allergens: 0: , Burgers: B10: moreInfo: available: False, Burgers: B11: name: Colonel Burger, ',\n",
       " 'passage: Burgers: B10: moreInfo: available: False, Burgers: B11: name: Colonel Burger, Burgers: B11: price: 15, Burgers: B11: moreInfo: nutritionalInfo: kcal: 150, Burgers: B11: moreInfo: nutritionalInfo: fat: 100, Burgers: B11: moreInfo: nutritionalInfo: protein: 10, Burgers: B11: moreInfo: nutritionalInfo: itemId: 67, Burgers: B11: moreInfo: nutritionalInfo: allergens: 0: , Burgers: B11: moreInfo: available: False, Burgers: B12: name: Veggie Tender, Burgers: B12: price: 15, Burgers: B12: moreInfo: nutritionalInfo: kcal: 150, ',\n",
       " 'passage: Burgers: B12: price: 15, Burgers: B12: moreInfo: nutritionalInfo: kcal: 150, Burgers: B12: moreInfo: nutritionalInfo: fat: 100, Burgers: B12: moreInfo: nutritionalInfo: protein: 10, Burgers: B12: moreInfo: nutritionalInfo: itemId: 71, Burgers: B12: moreInfo: nutritionalInfo: allergens: 0: , Burgers: B12: moreInfo: available: False, Burgers: B13: name: Filet Bites, Burgers: B13: price: 15, Burgers: B13: moreInfo: nutritionalInfo: kcal: 150, Burgers: B13: moreInfo: nutritionalInfo: fat: 100, Burgers: B13: moreInfo: nutritionalInfo: protein: 10, ',\n",
       " 'passage: Burgers: B13: moreInfo: nutritionalInfo: fat: 100, Burgers: B13: moreInfo: nutritionalInfo: protein: 10, Burgers: B13: moreInfo: nutritionalInfo: itemId: 68, Burgers: B13: moreInfo: nutritionalInfo: allergens: 0: , Burgers: B13: moreInfo: available: False, Burgers: B14: name: Original Burger, Burgers: B14: price: 15, Burgers: B14: moreInfo: nutritionalInfo: kcal: 150, Burgers: B14: moreInfo: nutritionalInfo: fat: 100, Burgers: B14: moreInfo: nutritionalInfo: protein: 10, Burgers: B14: moreInfo: nutritionalInfo: itemId: 74, Burgers: B14: moreInfo: nutritionalInfo: allergens: 0: , ',\n",
       " 'passage: Burgers: B14: moreInfo: nutritionalInfo: itemId: 74, Burgers: B14: moreInfo: nutritionalInfo: allergens: 0: , Burgers: B14: moreInfo: available: False, Burgers: B15: name: Zinger Burger, Burgers: B15: price: 15, Burgers: B15: moreInfo: nutritionalInfo: kcal: 150, Burgers: B15: moreInfo: nutritionalInfo: fat: 100, Burgers: B15: moreInfo: nutritionalInfo: protein: 10, Burgers: B15: moreInfo: nutritionalInfo: itemId: 75, Burgers: B15: moreInfo: nutritionalInfo: allergens: 0: , Burgers: B15: moreInfo: available: False, Burgers: B16: name: Cheeseburger, ',\n",
       " 'passage: Burgers: B15: moreInfo: available: False, Burgers: B16: name: Cheeseburger, Burgers: B16: price: 15, Burgers: B16: moreInfo: nutritionalInfo: kcal: 150, Burgers: B16: moreInfo: nutritionalInfo: fat: 100, Burgers: B16: moreInfo: nutritionalInfo: protein: 10, Burgers: B16: moreInfo: nutritionalInfo: itemId: 82, Burgers: B16: moreInfo: nutritionalInfo: allergens: 0: , Burgers: B16: moreInfo: available: False, Burgers: B17: name: Zinger Filet, Burgers: B17: price: 15, Burgers: B17: moreInfo: nutritionalInfo: kcal: 150, ',\n",
       " 'passage: Burgers: B17: price: 15, Burgers: B17: moreInfo: nutritionalInfo: kcal: 150, Burgers: B17: moreInfo: nutritionalInfo: fat: 100, Burgers: B17: moreInfo: nutritionalInfo: protein: 10, Burgers: B17: moreInfo: nutritionalInfo: itemId: 83, Burgers: B17: moreInfo: nutritionalInfo: allergens: 0: , Burgers: B17: moreInfo: available: False, Sauces: S1: name: Apple Sauce, Sauces: S1: price: 15, Sauces: S1: moreInfo: available: False, Side dishes: SD1: name: Coleslaw, Side dishes: SD1: price: 1.7, ',\n",
       " 'passage: Side dishes: SD1: name: Coleslaw, Side dishes: SD1: price: 1.7, Side dishes: SD1: moreInfo: nutritionalInfo: kcal: 170, Side dishes: SD1: moreInfo: nutritionalInfo: fat: 10, Side dishes: SD1: moreInfo: nutritionalInfo: protein: 2, Side dishes: SD1: moreInfo: nutritionalInfo: itemId: 7, Side dishes: SD1: moreInfo: nutritionalInfo: allergens: 0: dairy, Side dishes: SD1: moreInfo: available: False, Side dishes: SD2: name: Fries, Side dishes: SD2: price: 2.5, Side dishes: SD2: moreInfo: nutritionalInfo: kcal: 340, Side dishes: SD2: moreInfo: nutritionalInfo: fat: 17, ',\n",
       " 'passage: Side dishes: SD2: moreInfo: nutritionalInfo: kcal: 340, Side dishes: SD2: moreInfo: nutritionalInfo: fat: 17, Side dishes: SD2: moreInfo: nutritionalInfo: protein: 4, Side dishes: SD2: moreInfo: nutritionalInfo: itemId: 8, Side dishes: SD2: moreInfo: nutritionalInfo: allergens: 0: wheat, Side dishes: SD2: moreInfo: available: False, Side dishes: SD3: name: Corn, Side dishes: SD3: price: 15, Side dishes: SD3: moreInfo: nutritionalInfo: kcal: 150, Side dishes: SD3: moreInfo: nutritionalInfo: fat: 100, Side dishes: SD3: moreInfo: nutritionalInfo: protein: 10, Side dishes: SD3: moreInfo: nutritionalInfo: itemId: 73, ',\n",
       " 'passage: Side dishes: SD3: moreInfo: nutritionalInfo: protein: 10, Side dishes: SD3: moreInfo: nutritionalInfo: itemId: 73, Side dishes: SD3: moreInfo: nutritionalInfo: allergens: 0: , Side dishes: SD3: moreInfo: available: False, Desserts: DE1: name: Chocolate Sundae, Desserts: DE1: price: 2.5, Desserts: DE1: moreInfo: nutritionalInfo: kcal: 220, Desserts: DE1: moreInfo: nutritionalInfo: fat: 9, Desserts: DE1: moreInfo: nutritionalInfo: protein: 3, Desserts: DE1: moreInfo: nutritionalInfo: itemId: 13, Desserts: DE1: moreInfo: nutritionalInfo: allergens: 0: dairy, Desserts: DE1: moreInfo: nutritionalInfo: allergens: 1: soy, ',\n",
       " 'passage: Desserts: DE1: moreInfo: nutritionalInfo: allergens: 0: dairy, Desserts: DE1: moreInfo: nutritionalInfo: allergens: 1: soy, Desserts: DE1: moreInfo: available: False, Desserts: DE2: name: Apple Pie, Desserts: DE2: price: 2.2, Desserts: DE2: moreInfo: nutritionalInfo: kcal: 250, Desserts: DE2: moreInfo: nutritionalInfo: fat: 12, Desserts: DE2: moreInfo: nutritionalInfo: protein: 2, Desserts: DE2: moreInfo: nutritionalInfo: itemId: 14, Desserts: DE2: moreInfo: nutritionalInfo: allergens: 0: wheat, Desserts: DE2: moreInfo: nutritionalInfo: allergens: 1: soy, Desserts: DE2: moreInfo: available: False, ',\n",
       " 'passage: Desserts: DE2: moreInfo: nutritionalInfo: allergens: 1: soy, Desserts: DE2: moreInfo: available: False, Desserts: DE3: name: Ice Cream, Desserts: DE3: price: 15, Desserts: DE3: moreInfo: nutritionalInfo: kcal: 150, Desserts: DE3: moreInfo: nutritionalInfo: fat: 100, Desserts: DE3: moreInfo: nutritionalInfo: protein: 10, Desserts: DE3: moreInfo: nutritionalInfo: itemId: 95, Desserts: DE3: moreInfo: nutritionalInfo: allergens: 0: , Desserts: DE3: moreInfo: available: False, Vegetarian: V1: name: Veggie, Vegetarian: V1: price: 15, ',\n",
       " 'passage: Vegetarian: V1: name: Veggie, Vegetarian: V1: price: 15, Vegetarian: V1: moreInfo: nutritionalInfo: kcal: 150, Vegetarian: V1: moreInfo: nutritionalInfo: fat: 100, Vegetarian: V1: moreInfo: nutritionalInfo: protein: 10, Vegetarian: V1: moreInfo: nutritionalInfo: itemId: 72, Vegetarian: V1: moreInfo: nutritionalInfo: allergens: 0: , Vegetarian: V1: moreInfo: available: False, Vegetarian: V2: name: Veggie Tenders, Vegetarian: V2: price: 15, Vegetarian: V2: moreInfo: nutritionalInfo: kcal: 150, Vegetarian: V2: moreInfo: nutritionalInfo: fat: 100, ',\n",
       " 'passage: Vegetarian: V2: moreInfo: nutritionalInfo: kcal: 150, Vegetarian: V2: moreInfo: nutritionalInfo: fat: 100, Vegetarian: V2: moreInfo: nutritionalInfo: protein: 10, Vegetarian: V2: moreInfo: nutritionalInfo: itemId: 78, Vegetarian: V2: moreInfo: nutritionalInfo: allergens: 0: , Vegetarian: V2: moreInfo: available: False, M1: name: Meal Deal for 2, M1: price: 4.95, M1: contents: 0: item: B16, M1: contents: 0: amount: 2, M1: contents: 1: item: C4, M1: contents: 1: amount: 4, ',\n",
       " 'passage: M1: contents: 1: item: C4, M1: contents: 1: amount: 4, M1: contents: 2: item: SD2, M1: contents: 2: amount: 2, M1: contents: 3: from: Drinks, M1: contents: 3: size: S,L, M2: name: Meal Deal for 1, M2: price: 4.95, M2: contents: 0: item: B16, M2: contents: 0: amount: 1, M2: contents: 1: item: C6, M2: contents: 1: amount: 2, ',\n",
       " 'passage: M2: contents: 1: item: C6, M2: contents: 1: amount: 2, M2: contents: 2: item: SD2, M2: contents: 2: amount: 1, M2: contents: 3: from: Drinks, M2: contents: 3: size: S, M3: name: 2 Original pieces meal, M3: price: 30, M3: contents: 0: item: C7, M3: contents: 0: amount: 2, M3: contents: 1: from: Drinks, M3: contents: 1: size: M, ',\n",
       " 'passage: M3: contents: 1: from: Drinks, M3: contents: 1: size: M, M3: contents: 2: from: Side dishes, M3: contents: 2: choose: 1, M4: name: Fire Zinger Burger Meal, M4: price: 30, M4: contents: 0: item: B9, M4: contents: 0: amount: 1, M4: contents: 1: from: Side dishes, M4: contents: 1: choose: 1, M4: contents: 2: from: Drinks, M4: contents: 2: size: M, ',\n",
       " 'passage: M4: contents: 2: from: Drinks, M4: contents: 2: size: M, M5: name: Zinger Burger Box Meal, M5: price: 30, M5: contents: 0: item: B5, M5: contents: 0: amount: 1, M5: contents: 1: item: C4, M5: contents: 1: amount: 2, M5: contents: 2: from: Side dishes, M5: contents: 2: choose: 2, M5: contents: 3: from: Drinks, M5: contents: 3: size: L, ',\n",
       " 'passage: M5: contents: 3: from: Drinks, M5: contents: 3: size: L, M6: name: Colonel Stacker Meal, M6: price: 30, M6: contents: 0: item: B10, M6: contents: 0: amount: 1, M6: contents: 1: from: Side dishes, M6: contents: 1: choose: 1, M6: contents: 2: from: Drinks, M6: contents: 2: size: L, M7: name: Snackbox 3 Filet Bites, M7: price: 30, ',\n",
       " 'passage: M7: name: Snackbox 3 Filet Bites, M7: price: 30, M7: contents: 0: item: B13, M7: contents: 0: amount: 3, M7: contents: 1: item: SD2, M7: contents: 1: amount: 1, M8: name: Snackbox 3 Hot Wings, M8: price: 30, M8: contents: 0: item: C4, M8: contents: 0: amount: 3, M8: contents: 1: item: SD2, M8: contents: 1: amount: 1, ',\n",
       " 'passage: M8: contents: 1: item: SD2, M8: contents: 1: amount: 1, M9: name: Colonel Burger Meal, M9: price: 30, M9: contents: 0: item: B11, M9: contents: 0: amount: 1, M9: contents: 1: from: Side dishes, M9: contents: 1: choose: 1, M9: contents: 2: from: Drinks, M9: contents: 2: size: L, M10: name: Snackbox 1 Original piece, M10: price: 30, ',\n",
       " 'passage: M10: name: Snackbox 1 Original piece, M10: price: 30, M10: contents: 0: item: SD2, M10: contents: 0: amount: 1, M10: contents: 1: item: C7, M10: contents: 1: amount: 1, M11: name: Veggie Burger Meal, M11: price: 15, M11: contents: 0: item: B7, M11: contents: 0: amount: 1, M11: contents: 1: from: Drinks, M11: contents: 1: size: L, ',\n",
       " 'passage: M11: contents: 1: from: Drinks, M11: contents: 1: size: L, M11: contents: 2: from: Side dishes, M11: contents: 2: choose: 2, M12: name: Original Burger Meal, M12: price: 30, M12: contents: 0: item: B14, M12: contents: 0: amount: 1, M12: contents: 1: from: Side dishes, M12: contents: 1: choose: 1, M12: contents: 2: from: Drinks, M12: contents: 2: size: L, ',\n",
       " 'passage: M12: contents: 2: from: Drinks, M12: contents: 2: size: L, M13: name: 3 Original pieces Boxmeal, M13: price: 30, M13: contents: 0: item: C7, M13: contents: 0: amount: 3, M13: contents: 1: from: Side dishes, M13: contents: 1: choose: 2, M13: contents: 2: from: Drinks, M13: contents: 2: size: L, M14: name: Variety Box Meal, M14: price: 30, ',\n",
       " 'passage: M14: name: Variety Box Meal, M14: price: 30, M14: contents: 0: item: C4, M14: contents: 0: amount: 3, M14: contents: 1: item: C7, M14: contents: 1: amount: 1, M14: contents: 2: item: C6, M14: contents: 2: amount: 2, M14: contents: 3: from: Drinks, M14: contents: 3: size: L, M14: contents: 4: from: Side dishes, M14: contents: 4: choose: 2, ',\n",
       " 'passage: M14: contents: 4: from: Side dishes, M14: contents: 4: choose: 2, M15: name: 4 Veggie Tender meal, M15: price: 30, M15: contents: 0: item: C4, M15: contents: 0: amount: 6, M15: contents: 1: from: Side dishes, M15: contents: 1: choose: 1, M15: contents: 2: from: Drinks, M15: contents: 2: size: L, M16: name: Veggie Burger Box Meal, M16: price: 30, ',\n",
       " 'passage: M16: name: Veggie Burger Box Meal, M16: price: 30, M16: contents: 0: item: V2, M16: contents: 0: amount: 2, M16: contents: 1: from: Side dishes, M16: contents: 1: choose: 2, M16: contents: 2: from: Drinks, M16: contents: 2: size: L, M17: name: 8 Hot Wings Box Meal, M17: price: 30, M17: contents: 0: item: C4, M17: contents: 0: amount: 8, ',\n",
       " 'passage: M17: contents: 0: item: C4, M17: contents: 0: amount: 8, M17: contents: 1: from: Side dishes, M17: contents: 1: choose: 2, M17: contents: 2: from: Drinks, M17: contents: 2: size: L, M18: name: Twister meal, M18: price: 30, M18: contents: 0: item: C6, M18: contents: 0: amount: 2, M18: contents: 1: from: Side dishes, M18: contents: 1: choose: 1, ',\n",
       " 'passage: M18: contents: 1: from: Side dishes, M18: contents: 1: choose: 1, M18: contents: 2: from: Drinks, M18: contents: 2: size: L, M19: name: Veggie Box Meal, M19: price: 30, M19: contents: 0: item: V2, M19: contents: 0: amount: 5, M19: contents: 1: from: Side dishes, M19: contents: 1: choose: 2, M19: contents: 2: from: Drinks, M19: contents: 2: size: L, ',\n",
       " 'passage: M19: contents: 2: from: Drinks, M19: contents: 2: size: L, M20: name: 4 Veggie Tender meal, M20: price: 30, M20: contents: 0: item: V2, M20: contents: 0: amount: 4, M20: contents: 1: from: Drinks, M20: contents: 1: size: L, M20: contents: 2: from: Side dishes, M20: contents: 2: choose: 1, M21: name: Boneless bucket, M21: price: 30, ',\n",
       " 'passage: M21: name: Boneless bucket, M21: price: 30, M21: contents: 0: item: C6, M21: contents: 0: amount: 10, M21: contents: 1: item: B13, M21: contents: 1: amount: 6, M21: contents: 2: from: Side dishes, M21: contents: 2: choose: 2, M22: name: Snack box 3 Filet Bites, M22: price: 30, M22: contents: 0: item: B13, M22: contents: 0: amount: 3, ',\n",
       " 'passage: M22: contents: 0: item: B13, M22: contents: 0: amount: 3, M22: contents: 1: item: SD2, M22: contents: 1: amount: 1, M23: name: Snackbox 1 Original piece, M23: price: 30, M23: contents: 0: item: C7, M23: contents: 0: amount: 1, M23: contents: 1: item: SD2, M23: contents: 1: amount: 1, M24: name: Snackbox 2 Crispy Tenders, M24: price: 30, ',\n",
       " 'passage: M24: name: Snackbox 2 Crispy Tenders, M24: price: 30, M24: contents: 0: item: SD2, M24: contents: 0: amount: 1, M24: contents: 1: item: C6, M24: contents: 1: amount: 2, M25: name: Twister meal, M25: price: 30, M25: contents: 0: item: C6, M25: contents: 0: amount: 2, M25: contents: 1: from: Side dishes, M25: contents: 1: choose: 1, ',\n",
       " 'passage: M25: contents: 1: from: Side dishes, M25: contents: 1: choose: 1, M25: contents: 2: from: Drinks, M25: contents: 2: size: L, M26: name: Zinger Burger Meal, M26: price: 30, M26: contents: 0: item: B15, M26: contents: 0: amount: 1, M26: contents: 1: from: Drinks, M26: contents: 1: size: L, M26: contents: 2: from: Side dishes, M26: contents: 2: choose: 1, ',\n",
       " 'passage: M26: contents: 2: from: Side dishes, M26: contents: 2: choose: 1, M27: name: Original Burger Boxmeal, M27: price: 30, M27: contents: 0: item: B14, M27: contents: 0: amount: 1, M27: contents: 1: item: C4, M27: contents: 1: amount: 2, M27: contents: 2: from: Side dishes, M27: contents: 2: choose: 2, M27: contents: 3: from: Drinks, M27: contents: 3: size: L, ',\n",
       " 'passage: M27: contents: 3: from: Drinks, M27: contents: 3: size: L, M28: name: Veggie Boxmeal, M28: price: 30, M28: contents: 0: item: B12, M28: contents: 0: amount: 5, M28: contents: 1: item: D2, M28: contents: 1: amount: 1, M28: contents: 2: from: Side dishes, M28: contents: 2: choose: 2, M28: contents: 3: from: Drinks, M28: contents: 3: size: L, ',\n",
       " 'passage: M28: contents: 3: from: Drinks, M28: contents: 3: size: L, M29: name: Filet Bites Boxmeal, M29: price: 30, M29: contents: 0: item: B13, M29: contents: 0: amount: 9, M29: contents: 1: from: Side dishes, M29: contents: 1: choose: 2, M29: contents: 2: from: Drinks, M29: contents: 2: size: L, M30: name: Boneless Box Meal, M30: price: 30, ',\n",
       " 'passage: M30: name: Boneless Box Meal, M30: price: 30, M30: contents: 0: item: C6, M30: contents: 0: amount: 5, M30: contents: 1: from: Side dishes, M30: contents: 1: choose: 2, M30: contents: 2: from: Drinks, M30: contents: 2: size: L, M31: name: Double Crunch Meal, M31: price: 30, M31: contents: 0: item: B1, M31: contents: 0: amount: 1, ',\n",
       " 'passage: M31: contents: 0: item: B1, M31: contents: 0: amount: 1, M31: contents: 1: from: Side dishes, M31: contents: 1: choose: 1, M31: contents: 2: from: Drinks, M31: contents: 2: size: L, M32: name: Snack box 2 Veggie Tenders, M32: price: 30, M32: contents: 0: item: V2, M32: contents: 0: amount: 2, M32: contents: 1: item: SD2, M32: contents: 1: amount: 1, ',\n",
       " 'passage: M32: contents: 1: item: SD2, M32: contents: 1: amount: 1, M33: name: Fire Twister meal, M33: price: 30, M33: contents: 0: item: C6, M33: contents: 0: amount: 2, M33: contents: 1: from: Side dishes, M33: contents: 1: choose: 1, M33: contents: 2: from: Drinks, M33: contents: 2: size: L, M34: name: Veggie Bucket, M34: price: 30, ',\n",
       " 'passage: M34: name: Veggie Bucket, M34: price: 30, M34: contents: 0: item: V2, M34: contents: 0: amount: 10, M34: contents: 1: from: Drinks, M34: contents: 1: size: L, M34: contents: 2: from: Side dishes, M34: contents: 2: choose: 2, M35: name: Veggie Burger Meal, M35: price: 30, M35: contents: 0: item: B7, M35: contents: 0: amount: 2, ',\n",
       " 'passage: M35: contents: 0: item: B7, M35: contents: 0: amount: 2, M35: contents: 1: from: Side dishes, M35: contents: 1: choose: 2, M35: contents: 2: from: Drinks, M35: contents: 2: size: L, M36: name: Veggie Twister meal, M36: price: 30, M36: contents: 0: item: C6, M36: contents: 0: amount: 2, M36: contents: 1: from: Drinks, M36: contents: 1: size: L, ',\n",
       " 'passage: M36: contents: 1: from: Drinks, M36: contents: 1: size: L, M36: contents: 2: from: Side dishes, M36: contents: 2: choose: 1, M37: name: Veggie Kids Meal, M37: price: 30, M37: contents: 0: item: V2, M37: contents: 0: amount: 2, M37: contents: 1: from: Drinks, M37: contents: 1: size: L, M37: contents: 2: from: Sauces, M37: contents: 2: choose: 1, ',\n",
       " 'passage: M37: contents: 2: from: Sauces, M37: contents: 2: choose: 1, M37: contents: 3: from: Side dishes, M37: contents: 3: choose: 1, M38: name: Variety bucket, M38: price: 30, M38: contents: 0: item: C7, M38: contents: 0: amount: 4, M38: contents: 1: item: C4, M38: contents: 1: amount: 6, M38: contents: 2: item: C6, M38: contents: 2: amount: 4, ',\n",
       " 'passage: M38: contents: 2: item: C6, M38: contents: 2: amount: 4, M38: contents: 3: from: Side dishes, M38: contents: 3: choose: 2, M38: contents: 4: from: Sauces, M38: contents: 4: choose: 1, M39: name: Veggie Bucket, M39: price: 30, M39: contents: 0: item: V2, M39: contents: 0: amount: 10, M39: contents: 1: from: Side dishes, M39: contents: 1: choose: 2, ',\n",
       " 'passage: M39: contents: 1: from: Side dishes, M39: contents: 1: choose: 2, M39: contents: 2: from: Drinks, M39: contents: 2: size: L, M40: name: Family bucket, M40: price: 30, M40: contents: 0: item: C4, M40: contents: 0: amount: 12, M40: contents: 1: item: C7, M40: contents: 1: amount: 4, M40: contents: 2: item: C6, M40: contents: 2: amount: 6, ',\n",
       " 'passage: M40: contents: 2: item: C6, M40: contents: 2: amount: 6, M40: contents: 3: item: B13, M40: contents: 3: amount: 9, M40: contents: 4: item: SD2, M40: contents: 4: amount: 4, M40: contents: 5: from: Side dishes, M40: contents: 5: choose: 4, M41: name: Kids Meal, M41: price: 30, M41: contents: 0: item: B13, M41: contents: 0: amount: 3, ',\n",
       " 'passage: M41: contents: 0: item: B13, M41: contents: 0: amount: 3, M41: contents: 1: item: C7, M41: contents: 1: amount: 1, M41: contents: 2: from: Burgers, M41: contents: 2: choose: 1, M41: contents: 3: from: Drinks, M41: contents: 3: size: L, M41: contents: 4: from: Sauces, M41: contents: 4: choose: 1, M41: contents: 5: from: Side dishes, M41: contents: 5: choose: 1, ',\n",
       " 'passage: M41: contents: 5: from: Side dishes, M41: contents: 5: choose: 1, M42: name: Veggie Kids Meal, M42: price: 30, M42: contents: 0: item: V2, M42: contents: 0: amount: 2, M42: contents: 1: from: Side dishes, M42: contents: 1: choose: 1, M42: contents: 2: from: Drinks, M42: contents: 2: size: L, M43: name: Fire Zinger Stacker meal, M43: price: 30, ',\n",
       " 'passage: M43: name: Fire Zinger Stacker meal, M43: price: 30, M43: contents: 0: item: B8, M43: contents: 0: amount: 1, M43: contents: 1: from: Side dishes, M43: contents: 1: choose: 1, M43: contents: 2: from: Drinks, M43: contents: 2: size: L, ']"
      ]
     },
     "execution_count": 78,
     "metadata": {},
     "output_type": "execute_result"
    }
   ],
   "source": [
    "context_list"
   ]
  },
  {
   "cell_type": "markdown",
   "id": "e26c02c4",
   "metadata": {},
   "source": [
    "# Make embeddings"
   ]
  },
  {
   "cell_type": "code",
   "execution_count": 80,
   "id": "19caf396",
   "metadata": {
    "scrolled": true
   },
   "outputs": [
    {
     "name": "stdout",
     "output_type": "stream",
     "text": [
      "Collecting sentence_transformers\n",
      "  Obtaining dependency information for sentence_transformers from https://files.pythonhosted.org/packages/b5/d0/ba1577e198681c76125a810217b305a7010a9280c24c314c7dd7d09d62ab/sentence_transformers-2.5.0-py3-none-any.whl.metadata\n",
      "  Downloading sentence_transformers-2.5.0-py3-none-any.whl.metadata (11 kB)\n",
      "Requirement already satisfied: transformers<5.0.0,>=4.32.0 in /Users/lucapetru/miniconda3/envs/DataScienceEnv/lib/python3.11/site-packages (from sentence_transformers) (4.36.2)\n",
      "Requirement already satisfied: tqdm in /Users/lucapetru/miniconda3/envs/DataScienceEnv/lib/python3.11/site-packages (from sentence_transformers) (4.66.1)\n",
      "Requirement already satisfied: torch>=1.11.0 in /Users/lucapetru/miniconda3/envs/DataScienceEnv/lib/python3.11/site-packages (from sentence_transformers) (2.1.2)\n",
      "Requirement already satisfied: numpy in /Users/lucapetru/miniconda3/envs/DataScienceEnv/lib/python3.11/site-packages (from sentence_transformers) (1.26.0)\n",
      "Requirement already satisfied: scikit-learn in /Users/lucapetru/miniconda3/envs/DataScienceEnv/lib/python3.11/site-packages (from sentence_transformers) (1.2.2)\n",
      "Requirement already satisfied: scipy in /Users/lucapetru/miniconda3/envs/DataScienceEnv/lib/python3.11/site-packages (from sentence_transformers) (1.11.3)\n",
      "Requirement already satisfied: huggingface-hub>=0.15.1 in /Users/lucapetru/miniconda3/envs/DataScienceEnv/lib/python3.11/site-packages (from sentence_transformers) (0.20.2)\n",
      "Requirement already satisfied: Pillow in /Users/lucapetru/miniconda3/envs/DataScienceEnv/lib/python3.11/site-packages (from sentence_transformers) (10.0.1)\n",
      "Requirement already satisfied: filelock in /Users/lucapetru/miniconda3/envs/DataScienceEnv/lib/python3.11/site-packages (from huggingface-hub>=0.15.1->sentence_transformers) (3.13.1)\n",
      "Requirement already satisfied: fsspec>=2023.5.0 in /Users/lucapetru/miniconda3/envs/DataScienceEnv/lib/python3.11/site-packages (from huggingface-hub>=0.15.1->sentence_transformers) (2023.10.0)\n",
      "Requirement already satisfied: requests in /Users/lucapetru/miniconda3/envs/DataScienceEnv/lib/python3.11/site-packages (from huggingface-hub>=0.15.1->sentence_transformers) (2.31.0)\n",
      "Requirement already satisfied: pyyaml>=5.1 in /Users/lucapetru/miniconda3/envs/DataScienceEnv/lib/python3.11/site-packages (from huggingface-hub>=0.15.1->sentence_transformers) (6.0)\n",
      "Requirement already satisfied: typing-extensions>=3.7.4.3 in /Users/lucapetru/miniconda3/envs/DataScienceEnv/lib/python3.11/site-packages (from huggingface-hub>=0.15.1->sentence_transformers) (4.7.1)\n",
      "Requirement already satisfied: packaging>=20.9 in /Users/lucapetru/miniconda3/envs/DataScienceEnv/lib/python3.11/site-packages (from huggingface-hub>=0.15.1->sentence_transformers) (23.2)\n",
      "Requirement already satisfied: sympy in /Users/lucapetru/miniconda3/envs/DataScienceEnv/lib/python3.11/site-packages (from torch>=1.11.0->sentence_transformers) (1.12)\n",
      "Requirement already satisfied: networkx in /Users/lucapetru/miniconda3/envs/DataScienceEnv/lib/python3.11/site-packages (from torch>=1.11.0->sentence_transformers) (3.2.1)\n",
      "Requirement already satisfied: jinja2 in /Users/lucapetru/miniconda3/envs/DataScienceEnv/lib/python3.11/site-packages (from torch>=1.11.0->sentence_transformers) (3.1.2)\n",
      "Requirement already satisfied: regex!=2019.12.17 in /Users/lucapetru/miniconda3/envs/DataScienceEnv/lib/python3.11/site-packages (from transformers<5.0.0,>=4.32.0->sentence_transformers) (2023.12.25)\n",
      "Requirement already satisfied: tokenizers<0.19,>=0.14 in /Users/lucapetru/miniconda3/envs/DataScienceEnv/lib/python3.11/site-packages (from transformers<5.0.0,>=4.32.0->sentence_transformers) (0.15.0)\n",
      "Requirement already satisfied: safetensors>=0.3.1 in /Users/lucapetru/miniconda3/envs/DataScienceEnv/lib/python3.11/site-packages (from transformers<5.0.0,>=4.32.0->sentence_transformers) (0.4.1)\n",
      "Requirement already satisfied: joblib>=1.1.1 in /Users/lucapetru/miniconda3/envs/DataScienceEnv/lib/python3.11/site-packages (from scikit-learn->sentence_transformers) (1.2.0)\n",
      "Requirement already satisfied: threadpoolctl>=2.0.0 in /Users/lucapetru/miniconda3/envs/DataScienceEnv/lib/python3.11/site-packages (from scikit-learn->sentence_transformers) (2.2.0)\n",
      "Requirement already satisfied: MarkupSafe>=2.0 in /Users/lucapetru/miniconda3/envs/DataScienceEnv/lib/python3.11/site-packages (from jinja2->torch>=1.11.0->sentence_transformers) (2.1.1)\n",
      "Requirement already satisfied: charset-normalizer<4,>=2 in /Users/lucapetru/miniconda3/envs/DataScienceEnv/lib/python3.11/site-packages (from requests->huggingface-hub>=0.15.1->sentence_transformers) (2.0.4)\n",
      "Requirement already satisfied: idna<4,>=2.5 in /Users/lucapetru/miniconda3/envs/DataScienceEnv/lib/python3.11/site-packages (from requests->huggingface-hub>=0.15.1->sentence_transformers) (3.4)\n",
      "Requirement already satisfied: urllib3<3,>=1.21.1 in /Users/lucapetru/miniconda3/envs/DataScienceEnv/lib/python3.11/site-packages (from requests->huggingface-hub>=0.15.1->sentence_transformers) (1.26.16)\n",
      "Requirement already satisfied: certifi>=2017.4.17 in /Users/lucapetru/miniconda3/envs/DataScienceEnv/lib/python3.11/site-packages (from requests->huggingface-hub>=0.15.1->sentence_transformers) (2023.7.22)\n",
      "Requirement already satisfied: mpmath>=0.19 in /Users/lucapetru/miniconda3/envs/DataScienceEnv/lib/python3.11/site-packages (from sympy->torch>=1.11.0->sentence_transformers) (1.3.0)\n",
      "Downloading sentence_transformers-2.5.0-py3-none-any.whl (156 kB)\n",
      "\u001b[2K   \u001b[90m━━━━━━━━━━━━━━━━━━━━━━━━━━━━━━━━━━━━━━━━\u001b[0m \u001b[32m156.3/156.3 kB\u001b[0m \u001b[31m1.6 MB/s\u001b[0m eta \u001b[36m0:00:00\u001b[0m00:01\u001b[0m0:01\u001b[0m\n",
      "\u001b[?25hInstalling collected packages: sentence_transformers\n",
      "Successfully installed sentence_transformers-2.5.0\n"
     ]
    }
   ],
   "source": [
    "!pip install sentence_transformers"
   ]
  },
  {
   "cell_type": "code",
   "execution_count": 81,
   "id": "8e6e9541",
   "metadata": {
    "scrolled": true
   },
   "outputs": [
    {
     "data": {
      "application/vnd.jupyter.widget-view+json": {
       "model_id": "f340ef73dc7d40d88d9a31a94876f855",
       "version_major": 2,
       "version_minor": 0
      },
      "text/plain": [
       "modules.json:   0%|          | 0.00/387 [00:00<?, ?B/s]"
      ]
     },
     "metadata": {},
     "output_type": "display_data"
    },
    {
     "data": {
      "application/vnd.jupyter.widget-view+json": {
       "model_id": "f4fe349566bd45b3bf8c7c12648ba8e0",
       "version_major": 2,
       "version_minor": 0
      },
      "text/plain": [
       "README.md:   0%|          | 0.00/160k [00:00<?, ?B/s]"
      ]
     },
     "metadata": {},
     "output_type": "display_data"
    },
    {
     "data": {
      "application/vnd.jupyter.widget-view+json": {
       "model_id": "b14ed637047d448ca606c664aa80f87e",
       "version_major": 2,
       "version_minor": 0
      },
      "text/plain": [
       "sentence_bert_config.json:   0%|          | 0.00/57.0 [00:00<?, ?B/s]"
      ]
     },
     "metadata": {},
     "output_type": "display_data"
    },
    {
     "data": {
      "application/vnd.jupyter.widget-view+json": {
       "model_id": "1091618aea8b42b98fc0c3b4128f016d",
       "version_major": 2,
       "version_minor": 0
      },
      "text/plain": [
       "config.json:   0%|          | 0.00/690 [00:00<?, ?B/s]"
      ]
     },
     "metadata": {},
     "output_type": "display_data"
    },
    {
     "data": {
      "application/vnd.jupyter.widget-view+json": {
       "model_id": "1a0cdf93176743f1bec4549492615f3a",
       "version_major": 2,
       "version_minor": 0
      },
      "text/plain": [
       "model.safetensors:   0%|          | 0.00/2.24G [00:00<?, ?B/s]"
      ]
     },
     "metadata": {},
     "output_type": "display_data"
    },
    {
     "data": {
      "application/vnd.jupyter.widget-view+json": {
       "model_id": "72e59cbfb0f24623af474679f264aea9",
       "version_major": 2,
       "version_minor": 0
      },
      "text/plain": [
       "tokenizer_config.json:   0%|          | 0.00/418 [00:00<?, ?B/s]"
      ]
     },
     "metadata": {},
     "output_type": "display_data"
    },
    {
     "data": {
      "application/vnd.jupyter.widget-view+json": {
       "model_id": "d00fc3acf1d24414bc1caa4f02928728",
       "version_major": 2,
       "version_minor": 0
      },
      "text/plain": [
       "sentencepiece.bpe.model:   0%|          | 0.00/5.07M [00:00<?, ?B/s]"
      ]
     },
     "metadata": {},
     "output_type": "display_data"
    },
    {
     "data": {
      "application/vnd.jupyter.widget-view+json": {
       "model_id": "16c4ca7eab8349f8a829356c1c8faa48",
       "version_major": 2,
       "version_minor": 0
      },
      "text/plain": [
       "tokenizer.json:   0%|          | 0.00/17.1M [00:00<?, ?B/s]"
      ]
     },
     "metadata": {},
     "output_type": "display_data"
    },
    {
     "data": {
      "application/vnd.jupyter.widget-view+json": {
       "model_id": "2495cc1c5204432aa93e9b8055637198",
       "version_major": 2,
       "version_minor": 0
      },
      "text/plain": [
       "special_tokens_map.json:   0%|          | 0.00/280 [00:00<?, ?B/s]"
      ]
     },
     "metadata": {},
     "output_type": "display_data"
    },
    {
     "data": {
      "application/vnd.jupyter.widget-view+json": {
       "model_id": "45e26f65e33a43dc8a1e38beb9863dc1",
       "version_major": 2,
       "version_minor": 0
      },
      "text/plain": [
       "1_Pooling/config.json:   0%|          | 0.00/201 [00:00<?, ?B/s]"
      ]
     },
     "metadata": {},
     "output_type": "display_data"
    }
   ],
   "source": [
    "from sentence_transformers import SentenceTransformer\n",
    "model = SentenceTransformer('intfloat/multilingual-e5-large')\n",
    "embeddings = model.encode(context_list, normalize_embeddings=True)\n"
   ]
  },
  {
   "cell_type": "code",
   "execution_count": 83,
   "id": "6cc98e6e",
   "metadata": {
    "scrolled": true
   },
   "outputs": [
    {
     "name": "stderr",
     "output_type": "stream",
     "text": [
      "huggingface/tokenizers: The current process just got forked, after parallelism has already been used. Disabling parallelism to avoid deadlocks...\n",
      "To disable this warning, you can either:\n",
      "\t- Avoid using `tokenizers` before the fork if possible\n",
      "\t- Explicitly set the environment variable TOKENIZERS_PARALLELISM=(true | false)\n"
     ]
    },
    {
     "name": "stdout",
     "output_type": "stream",
     "text": [
      "Collecting chromadb\n",
      "  Obtaining dependency information for chromadb from https://files.pythonhosted.org/packages/cc/63/b7d76109331318423f9cfb89bd89c99e19f5d0b47a5105439a629224d297/chromadb-0.4.24-py3-none-any.whl.metadata\n",
      "  Downloading chromadb-0.4.24-py3-none-any.whl.metadata (7.3 kB)\n",
      "Collecting build>=1.0.3 (from chromadb)\n",
      "  Obtaining dependency information for build>=1.0.3 from https://files.pythonhosted.org/packages/06/d5/5ff223d89a6c461565ad06f5fdc089dcf7cc88283b9d8b84a11a80526927/build-1.1.0-py3-none-any.whl.metadata\n",
      "  Downloading build-1.1.0-py3-none-any.whl.metadata (4.2 kB)\n",
      "Requirement already satisfied: requests>=2.28 in /Users/lucapetru/miniconda3/envs/DataScienceEnv/lib/python3.11/site-packages (from chromadb) (2.31.0)\n",
      "Requirement already satisfied: pydantic>=1.9 in /Users/lucapetru/miniconda3/envs/DataScienceEnv/lib/python3.11/site-packages (from chromadb) (2.5.3)\n",
      "Collecting chroma-hnswlib==0.7.3 (from chromadb)\n",
      "  Obtaining dependency information for chroma-hnswlib==0.7.3 from https://files.pythonhosted.org/packages/94/3f/844393b0d2ea1072b7704d6eff5c595e05ae8b831b96340cdb76b2fe995c/chroma_hnswlib-0.7.3-cp311-cp311-macosx_10_9_x86_64.whl.metadata\n",
      "  Downloading chroma_hnswlib-0.7.3-cp311-cp311-macosx_10_9_x86_64.whl.metadata (252 bytes)\n",
      "Collecting fastapi>=0.95.2 (from chromadb)\n",
      "  Obtaining dependency information for fastapi>=0.95.2 from https://files.pythonhosted.org/packages/f0/f7/ea860cb8aa18e326f411e32ab537424690a53db20de6bad73d70da611fae/fastapi-0.110.0-py3-none-any.whl.metadata\n",
      "  Downloading fastapi-0.110.0-py3-none-any.whl.metadata (25 kB)\n",
      "Collecting uvicorn[standard]>=0.18.3 (from chromadb)\n",
      "  Obtaining dependency information for uvicorn[standard]>=0.18.3 from https://files.pythonhosted.org/packages/d9/fd/bac111726b6c651f1fa5563145ecba5ff70d36fb140a55e0d79b60b9d65e/uvicorn-0.27.1-py3-none-any.whl.metadata\n",
      "  Downloading uvicorn-0.27.1-py3-none-any.whl.metadata (6.3 kB)\n",
      "Requirement already satisfied: numpy>=1.22.5 in /Users/lucapetru/miniconda3/envs/DataScienceEnv/lib/python3.11/site-packages (from chromadb) (1.26.0)\n",
      "Collecting posthog>=2.4.0 (from chromadb)\n",
      "  Obtaining dependency information for posthog>=2.4.0 from https://files.pythonhosted.org/packages/8c/8f/fceed05ded6440161a4547bb182048e9e6e184853f89fde1024fc49e525f/posthog-3.4.2-py2.py3-none-any.whl.metadata\n",
      "  Downloading posthog-3.4.2-py2.py3-none-any.whl.metadata (2.0 kB)\n",
      "Requirement already satisfied: typing-extensions>=4.5.0 in /Users/lucapetru/miniconda3/envs/DataScienceEnv/lib/python3.11/site-packages (from chromadb) (4.7.1)\n",
      "Collecting pulsar-client>=3.1.0 (from chromadb)\n",
      "  Obtaining dependency information for pulsar-client>=3.1.0 from https://files.pythonhosted.org/packages/bc/26/e66b500cb1797cc3ae74219d403940e0410b050abc5fda0ea91bcbf61785/pulsar_client-3.4.0-cp311-cp311-macosx_10_15_universal2.whl.metadata\n",
      "  Downloading pulsar_client-3.4.0-cp311-cp311-macosx_10_15_universal2.whl.metadata (1.0 kB)\n",
      "Collecting onnxruntime>=1.14.1 (from chromadb)\n",
      "  Obtaining dependency information for onnxruntime>=1.14.1 from https://files.pythonhosted.org/packages/fa/f6/d0000c17134d7078e32d91c721c4ebad157c2e129ceab592d2444f5d38b1/onnxruntime-1.16.3-cp311-cp311-macosx_10_15_x86_64.whl.metadata\n",
      "  Downloading onnxruntime-1.16.3-cp311-cp311-macosx_10_15_x86_64.whl.metadata (4.3 kB)\n",
      "Collecting opentelemetry-api>=1.2.0 (from chromadb)\n",
      "  Obtaining dependency information for opentelemetry-api>=1.2.0 from https://files.pythonhosted.org/packages/96/e4/0bfd837c625517dd4c908789a89063247e5769be02b47bf432cde53964e2/opentelemetry_api-1.23.0-py3-none-any.whl.metadata\n",
      "  Downloading opentelemetry_api-1.23.0-py3-none-any.whl.metadata (1.4 kB)\n",
      "Collecting opentelemetry-exporter-otlp-proto-grpc>=1.2.0 (from chromadb)\n",
      "  Obtaining dependency information for opentelemetry-exporter-otlp-proto-grpc>=1.2.0 from https://files.pythonhosted.org/packages/67/29/19c639b565c340e25cd7b581e0311a3ccddbeca7906c500f23247f75d321/opentelemetry_exporter_otlp_proto_grpc-1.23.0-py3-none-any.whl.metadata\n",
      "  Downloading opentelemetry_exporter_otlp_proto_grpc-1.23.0-py3-none-any.whl.metadata (2.2 kB)\n",
      "Collecting opentelemetry-instrumentation-fastapi>=0.41b0 (from chromadb)\n",
      "  Obtaining dependency information for opentelemetry-instrumentation-fastapi>=0.41b0 from https://files.pythonhosted.org/packages/2c/a4/1dde6aa8c6839033e0c4660605ab377c5d75eda31ca067e636843e3a1db9/opentelemetry_instrumentation_fastapi-0.44b0-py3-none-any.whl.metadata\n",
      "  Downloading opentelemetry_instrumentation_fastapi-0.44b0-py3-none-any.whl.metadata (2.3 kB)\n",
      "Collecting opentelemetry-sdk>=1.2.0 (from chromadb)\n",
      "  Obtaining dependency information for opentelemetry-sdk>=1.2.0 from https://files.pythonhosted.org/packages/7d/3d/1e991d0badf159dbc090fa4137361ccf77f177c6ee555cf84e3d6ee79b26/opentelemetry_sdk-1.23.0-py3-none-any.whl.metadata\n",
      "  Downloading opentelemetry_sdk-1.23.0-py3-none-any.whl.metadata (1.4 kB)\n",
      "Requirement already satisfied: tokenizers>=0.13.2 in /Users/lucapetru/miniconda3/envs/DataScienceEnv/lib/python3.11/site-packages (from chromadb) (0.15.0)\n",
      "Collecting pypika>=0.48.9 (from chromadb)\n",
      "  Downloading PyPika-0.48.9.tar.gz (67 kB)\n",
      "\u001b[2K     \u001b[90m━━━━━━━━━━━━━━━━━━━━━━━━━━━━━━━━━━━━━━━\u001b[0m \u001b[32m67.3/67.3 kB\u001b[0m \u001b[31m944.8 kB/s\u001b[0m eta \u001b[36m0:00:00\u001b[0m \u001b[36m0:00:01\u001b[0m\n",
      "\u001b[?25h  Installing build dependencies ... \u001b[?25ldone\n",
      "\u001b[?25h  Getting requirements to build wheel ... \u001b[?25ldone\n",
      "\u001b[?25h  Preparing metadata (pyproject.toml) ... \u001b[?25ldone\n",
      "\u001b[?25hRequirement already satisfied: tqdm>=4.65.0 in /Users/lucapetru/miniconda3/envs/DataScienceEnv/lib/python3.11/site-packages (from chromadb) (4.66.1)\n",
      "Collecting overrides>=7.3.1 (from chromadb)\n",
      "  Obtaining dependency information for overrides>=7.3.1 from https://files.pythonhosted.org/packages/2c/ab/fc8290c6a4c722e5514d80f62b2dc4c4df1a68a41d1364e625c35990fcf3/overrides-7.7.0-py3-none-any.whl.metadata\n",
      "  Downloading overrides-7.7.0-py3-none-any.whl.metadata (5.8 kB)\n",
      "Collecting importlib-resources (from chromadb)\n",
      "  Obtaining dependency information for importlib-resources from https://files.pythonhosted.org/packages/ba/0b/27d13042335942abc29a87f49f1ce6b56fa58e025e96454ef25929aeb603/importlib_resources-6.1.2-py3-none-any.whl.metadata\n",
      "  Downloading importlib_resources-6.1.2-py3-none-any.whl.metadata (3.9 kB)\n",
      "Collecting grpcio>=1.58.0 (from chromadb)\n",
      "  Obtaining dependency information for grpcio>=1.58.0 from https://files.pythonhosted.org/packages/d3/8a/4e997c40be25c54b4c46140175052c996a9ca99ae7f563dce29112e5dbcf/grpcio-1.62.0-cp311-cp311-macosx_10_10_universal2.whl.metadata\n",
      "  Downloading grpcio-1.62.0-cp311-cp311-macosx_10_10_universal2.whl.metadata (4.0 kB)\n",
      "Collecting bcrypt>=4.0.1 (from chromadb)\n",
      "  Obtaining dependency information for bcrypt>=4.0.1 from https://files.pythonhosted.org/packages/a4/72/a1276d2fbf5d1af0e29ff9fb5220ce1d49a5f94ccbfb4f9141c963ff9d0e/bcrypt-4.1.2-cp39-abi3-macosx_10_12_universal2.whl.metadata\n",
      "  Downloading bcrypt-4.1.2-cp39-abi3-macosx_10_12_universal2.whl.metadata (9.5 kB)\n",
      "Collecting typer>=0.9.0 (from chromadb)\n",
      "  Obtaining dependency information for typer>=0.9.0 from https://files.pythonhosted.org/packages/bf/0e/c68adf10adda05f28a6ed7b9f4cd7b8e07f641b44af88ba72d9c89e4de7a/typer-0.9.0-py3-none-any.whl.metadata\n",
      "  Downloading typer-0.9.0-py3-none-any.whl.metadata (14 kB)\n",
      "Collecting kubernetes>=28.1.0 (from chromadb)\n",
      "  Obtaining dependency information for kubernetes>=28.1.0 from https://files.pythonhosted.org/packages/6f/34/164e57fec8a9693d7e6ae2d1a345482020ea9e9b32eab95a90bb3eaea83d/kubernetes-29.0.0-py2.py3-none-any.whl.metadata\n",
      "  Downloading kubernetes-29.0.0-py2.py3-none-any.whl.metadata (1.5 kB)\n",
      "Requirement already satisfied: tenacity>=8.2.3 in /Users/lucapetru/miniconda3/envs/DataScienceEnv/lib/python3.11/site-packages (from chromadb) (8.2.3)\n",
      "Requirement already satisfied: PyYAML>=6.0.0 in /Users/lucapetru/miniconda3/envs/DataScienceEnv/lib/python3.11/site-packages (from chromadb) (6.0)\n",
      "Collecting mmh3>=4.0.1 (from chromadb)\n",
      "  Obtaining dependency information for mmh3>=4.0.1 from https://files.pythonhosted.org/packages/1c/08/65fa5489044e2afc304e8540c6c607d5d7b136ddc5cd8315c13de0adc34c/mmh3-4.1.0-cp311-cp311-macosx_10_9_x86_64.whl.metadata\n",
      "  Downloading mmh3-4.1.0-cp311-cp311-macosx_10_9_x86_64.whl.metadata (13 kB)\n",
      "Requirement already satisfied: orjson>=3.9.12 in /Users/lucapetru/miniconda3/envs/DataScienceEnv/lib/python3.11/site-packages (from chromadb) (3.9.12)\n"
     ]
    },
    {
     "name": "stdout",
     "output_type": "stream",
     "text": [
      "Requirement already satisfied: packaging>=19.0 in /Users/lucapetru/miniconda3/envs/DataScienceEnv/lib/python3.11/site-packages (from build>=1.0.3->chromadb) (23.2)\n",
      "Collecting pyproject_hooks (from build>=1.0.3->chromadb)\n",
      "  Obtaining dependency information for pyproject_hooks from https://files.pythonhosted.org/packages/d5/ea/9ae603de7fbb3df820b23a70f6aff92bf8c7770043254ad8d2dc9d6bcba4/pyproject_hooks-1.0.0-py3-none-any.whl.metadata\n",
      "  Downloading pyproject_hooks-1.0.0-py3-none-any.whl.metadata (1.3 kB)\n",
      "Collecting starlette<0.37.0,>=0.36.3 (from fastapi>=0.95.2->chromadb)\n",
      "  Obtaining dependency information for starlette<0.37.0,>=0.36.3 from https://files.pythonhosted.org/packages/eb/f7/372e3953b6e6fbfe0b70a1bb52612eae16e943f4288516480860fcd4ac41/starlette-0.36.3-py3-none-any.whl.metadata\n",
      "  Downloading starlette-0.36.3-py3-none-any.whl.metadata (5.9 kB)\n",
      "Collecting typing-extensions>=4.5.0 (from chromadb)\n",
      "  Obtaining dependency information for typing-extensions>=4.5.0 from https://files.pythonhosted.org/packages/f9/de/dc04a3ea60b22624b51c703a84bbe0184abcd1d0b9bc8074b5d6b7ab90bb/typing_extensions-4.10.0-py3-none-any.whl.metadata\n",
      "  Downloading typing_extensions-4.10.0-py3-none-any.whl.metadata (3.0 kB)\n",
      "Requirement already satisfied: certifi>=14.05.14 in /Users/lucapetru/miniconda3/envs/DataScienceEnv/lib/python3.11/site-packages (from kubernetes>=28.1.0->chromadb) (2023.7.22)\n",
      "Requirement already satisfied: six>=1.9.0 in /Users/lucapetru/miniconda3/envs/DataScienceEnv/lib/python3.11/site-packages (from kubernetes>=28.1.0->chromadb) (1.16.0)\n",
      "Requirement already satisfied: python-dateutil>=2.5.3 in /Users/lucapetru/miniconda3/envs/DataScienceEnv/lib/python3.11/site-packages (from kubernetes>=28.1.0->chromadb) (2.8.2)\n",
      "Collecting google-auth>=1.0.1 (from kubernetes>=28.1.0->chromadb)\n",
      "  Obtaining dependency information for google-auth>=1.0.1 from https://files.pythonhosted.org/packages/b7/1d/f152a5f6d243b6acbb2a710ed19aa47154d678359bed995abdd9daf0cff0/google_auth-2.28.1-py2.py3-none-any.whl.metadata\n",
      "  Downloading google_auth-2.28.1-py2.py3-none-any.whl.metadata (4.7 kB)\n",
      "Requirement already satisfied: websocket-client!=0.40.0,!=0.41.*,!=0.42.*,>=0.32.0 in /Users/lucapetru/miniconda3/envs/DataScienceEnv/lib/python3.11/site-packages (from kubernetes>=28.1.0->chromadb) (0.58.0)\n",
      "Collecting requests-oauthlib (from kubernetes>=28.1.0->chromadb)\n",
      "  Obtaining dependency information for requests-oauthlib from https://files.pythonhosted.org/packages/6f/bb/5deac77a9af870143c684ab46a7934038a53eb4aa975bc0687ed6ca2c610/requests_oauthlib-1.3.1-py2.py3-none-any.whl.metadata\n",
      "  Downloading requests_oauthlib-1.3.1-py2.py3-none-any.whl.metadata (10 kB)\n",
      "Collecting oauthlib>=3.2.2 (from kubernetes>=28.1.0->chromadb)\n",
      "  Obtaining dependency information for oauthlib>=3.2.2 from https://files.pythonhosted.org/packages/7e/80/cab10959dc1faead58dc8384a781dfbf93cb4d33d50988f7a69f1b7c9bbe/oauthlib-3.2.2-py3-none-any.whl.metadata\n",
      "  Downloading oauthlib-3.2.2-py3-none-any.whl.metadata (7.5 kB)\n",
      "Requirement already satisfied: urllib3>=1.24.2 in /Users/lucapetru/miniconda3/envs/DataScienceEnv/lib/python3.11/site-packages (from kubernetes>=28.1.0->chromadb) (1.26.16)\n",
      "Collecting coloredlogs (from onnxruntime>=1.14.1->chromadb)\n",
      "  Obtaining dependency information for coloredlogs from https://files.pythonhosted.org/packages/a7/06/3d6badcf13db419e25b07041d9c7b4a2c331d3f4e7134445ec5df57714cd/coloredlogs-15.0.1-py2.py3-none-any.whl.metadata\n",
      "  Downloading coloredlogs-15.0.1-py2.py3-none-any.whl.metadata (12 kB)\n",
      "Collecting flatbuffers (from onnxruntime>=1.14.1->chromadb)\n",
      "  Obtaining dependency information for flatbuffers from https://files.pythonhosted.org/packages/6f/12/d5c79ee252793ffe845d58a913197bfa02ae9a0b5c9bc3dc4b58d477b9e7/flatbuffers-23.5.26-py2.py3-none-any.whl.metadata\n",
      "  Downloading flatbuffers-23.5.26-py2.py3-none-any.whl.metadata (850 bytes)\n",
      "Requirement already satisfied: protobuf in /Users/lucapetru/miniconda3/envs/DataScienceEnv/lib/python3.11/site-packages (from onnxruntime>=1.14.1->chromadb) (4.25.2)\n",
      "Requirement already satisfied: sympy in /Users/lucapetru/miniconda3/envs/DataScienceEnv/lib/python3.11/site-packages (from onnxruntime>=1.14.1->chromadb) (1.12)\n",
      "Collecting deprecated>=1.2.6 (from opentelemetry-api>=1.2.0->chromadb)\n",
      "  Obtaining dependency information for deprecated>=1.2.6 from https://files.pythonhosted.org/packages/20/8d/778b7d51b981a96554f29136cd59ca7880bf58094338085bcf2a979a0e6a/Deprecated-1.2.14-py2.py3-none-any.whl.metadata\n",
      "  Downloading Deprecated-1.2.14-py2.py3-none-any.whl.metadata (5.4 kB)\n",
      "Requirement already satisfied: importlib-metadata<7.0,>=6.0 in /Users/lucapetru/miniconda3/envs/DataScienceEnv/lib/python3.11/site-packages (from opentelemetry-api>=1.2.0->chromadb) (6.11.0)\n",
      "Collecting googleapis-common-protos~=1.52 (from opentelemetry-exporter-otlp-proto-grpc>=1.2.0->chromadb)\n",
      "  Obtaining dependency information for googleapis-common-protos~=1.52 from https://files.pythonhosted.org/packages/f0/43/c9d8f75ddf08e2a0a27db243c13a700c3cc7ec615b545b697cf6f715ad92/googleapis_common_protos-1.62.0-py2.py3-none-any.whl.metadata\n",
      "  Downloading googleapis_common_protos-1.62.0-py2.py3-none-any.whl.metadata (1.5 kB)\n",
      "Collecting opentelemetry-exporter-otlp-proto-common==1.23.0 (from opentelemetry-exporter-otlp-proto-grpc>=1.2.0->chromadb)\n",
      "  Obtaining dependency information for opentelemetry-exporter-otlp-proto-common==1.23.0 from https://files.pythonhosted.org/packages/13/ec/b0f12fb97b940ff2977ff77dc913242e2a577179b7f5b276487459a2749e/opentelemetry_exporter_otlp_proto_common-1.23.0-py3-none-any.whl.metadata\n",
      "  Downloading opentelemetry_exporter_otlp_proto_common-1.23.0-py3-none-any.whl.metadata (1.7 kB)\n",
      "Collecting opentelemetry-proto==1.23.0 (from opentelemetry-exporter-otlp-proto-grpc>=1.2.0->chromadb)\n",
      "  Obtaining dependency information for opentelemetry-proto==1.23.0 from https://files.pythonhosted.org/packages/4e/6a/8e5f11827772d1acb27fb2ac33ce12175fb485254de292c8aacd82153bf2/opentelemetry_proto-1.23.0-py3-none-any.whl.metadata\n",
      "  Downloading opentelemetry_proto-1.23.0-py3-none-any.whl.metadata (2.2 kB)\n",
      "Collecting opentelemetry-instrumentation-asgi==0.44b0 (from opentelemetry-instrumentation-fastapi>=0.41b0->chromadb)\n",
      "  Obtaining dependency information for opentelemetry-instrumentation-asgi==0.44b0 from https://files.pythonhosted.org/packages/d0/2f/237518ba94fe56a5b09740e08fddcc4b1cfe5f062d2ec692cca46f810eff/opentelemetry_instrumentation_asgi-0.44b0-py3-none-any.whl.metadata\n",
      "  Downloading opentelemetry_instrumentation_asgi-0.44b0-py3-none-any.whl.metadata (2.1 kB)\n",
      "Collecting opentelemetry-instrumentation==0.44b0 (from opentelemetry-instrumentation-fastapi>=0.41b0->chromadb)\n",
      "  Obtaining dependency information for opentelemetry-instrumentation==0.44b0 from https://files.pythonhosted.org/packages/bf/e3/b2a8260862d278ac2505c8cb61d11185349f5ea537946220f5c7d738de2a/opentelemetry_instrumentation-0.44b0-py3-none-any.whl.metadata\n",
      "  Downloading opentelemetry_instrumentation-0.44b0-py3-none-any.whl.metadata (6.1 kB)\n",
      "Collecting opentelemetry-semantic-conventions==0.44b0 (from opentelemetry-instrumentation-fastapi>=0.41b0->chromadb)\n",
      "  Obtaining dependency information for opentelemetry-semantic-conventions==0.44b0 from https://files.pythonhosted.org/packages/ba/0d/3b059755eaaf024261309c3b42fb4d14b2b6e36f58011a63c11817b0a5df/opentelemetry_semantic_conventions-0.44b0-py3-none-any.whl.metadata\n",
      "  Downloading opentelemetry_semantic_conventions-0.44b0-py3-none-any.whl.metadata (2.2 kB)\n",
      "Collecting opentelemetry-util-http==0.44b0 (from opentelemetry-instrumentation-fastapi>=0.41b0->chromadb)\n",
      "  Obtaining dependency information for opentelemetry-util-http==0.44b0 from https://files.pythonhosted.org/packages/81/bc/c9073aa85f073093c6f095d9872e12d2c75402cabc9bd87b4e27bfcc7280/opentelemetry_util_http-0.44b0-py3-none-any.whl.metadata\n",
      "  Downloading opentelemetry_util_http-0.44b0-py3-none-any.whl.metadata (2.4 kB)\n",
      "Requirement already satisfied: setuptools>=16.0 in /Users/lucapetru/miniconda3/envs/DataScienceEnv/lib/python3.11/site-packages (from opentelemetry-instrumentation==0.44b0->opentelemetry-instrumentation-fastapi>=0.41b0->chromadb) (68.0.0)\n",
      "Collecting wrapt<2.0.0,>=1.0.0 (from opentelemetry-instrumentation==0.44b0->opentelemetry-instrumentation-fastapi>=0.41b0->chromadb)\n",
      "  Obtaining dependency information for wrapt<2.0.0,>=1.0.0 from https://files.pythonhosted.org/packages/fd/03/c188ac517f402775b90d6f312955a5e53b866c964b32119f2ed76315697e/wrapt-1.16.0-cp311-cp311-macosx_10_9_x86_64.whl.metadata\n"
     ]
    },
    {
     "name": "stdout",
     "output_type": "stream",
     "text": [
      "  Downloading wrapt-1.16.0-cp311-cp311-macosx_10_9_x86_64.whl.metadata (6.6 kB)\n",
      "Collecting asgiref~=3.0 (from opentelemetry-instrumentation-asgi==0.44b0->opentelemetry-instrumentation-fastapi>=0.41b0->chromadb)\n",
      "  Obtaining dependency information for asgiref~=3.0 from https://files.pythonhosted.org/packages/9b/80/b9051a4a07ad231558fcd8ffc89232711b4e618c15cb7a392a17384bbeef/asgiref-3.7.2-py3-none-any.whl.metadata\n",
      "  Downloading asgiref-3.7.2-py3-none-any.whl.metadata (9.2 kB)\n",
      "Collecting monotonic>=1.5 (from posthog>=2.4.0->chromadb)\n",
      "  Obtaining dependency information for monotonic>=1.5 from https://files.pythonhosted.org/packages/9a/67/7e8406a29b6c45be7af7740456f7f37025f0506ae2e05fb9009a53946860/monotonic-1.6-py2.py3-none-any.whl.metadata\n",
      "  Downloading monotonic-1.6-py2.py3-none-any.whl.metadata (1.5 kB)\n",
      "Requirement already satisfied: backoff>=1.10.0 in /Users/lucapetru/miniconda3/envs/DataScienceEnv/lib/python3.11/site-packages (from posthog>=2.4.0->chromadb) (2.2.1)\n",
      "Requirement already satisfied: annotated-types>=0.4.0 in /Users/lucapetru/miniconda3/envs/DataScienceEnv/lib/python3.11/site-packages (from pydantic>=1.9->chromadb) (0.6.0)\n",
      "Requirement already satisfied: pydantic-core==2.14.6 in /Users/lucapetru/miniconda3/envs/DataScienceEnv/lib/python3.11/site-packages (from pydantic>=1.9->chromadb) (2.14.6)\n",
      "Requirement already satisfied: charset-normalizer<4,>=2 in /Users/lucapetru/miniconda3/envs/DataScienceEnv/lib/python3.11/site-packages (from requests>=2.28->chromadb) (2.0.4)\n",
      "Requirement already satisfied: idna<4,>=2.5 in /Users/lucapetru/miniconda3/envs/DataScienceEnv/lib/python3.11/site-packages (from requests>=2.28->chromadb) (3.4)\n",
      "Requirement already satisfied: huggingface_hub<1.0,>=0.16.4 in /Users/lucapetru/miniconda3/envs/DataScienceEnv/lib/python3.11/site-packages (from tokenizers>=0.13.2->chromadb) (0.20.2)\n",
      "Requirement already satisfied: click<9.0.0,>=7.1.1 in /Users/lucapetru/miniconda3/envs/DataScienceEnv/lib/python3.11/site-packages (from typer>=0.9.0->chromadb) (8.1.7)\n",
      "Requirement already satisfied: h11>=0.8 in /Users/lucapetru/miniconda3/envs/DataScienceEnv/lib/python3.11/site-packages (from uvicorn[standard]>=0.18.3->chromadb) (0.14.0)\n",
      "Collecting httptools>=0.5.0 (from uvicorn[standard]>=0.18.3->chromadb)\n",
      "  Obtaining dependency information for httptools>=0.5.0 from https://files.pythonhosted.org/packages/80/dd/cebc9d4b1d4b70e9f3d40d1db0829a28d57ca139d0b04197713816a11996/httptools-0.6.1-cp311-cp311-macosx_10_9_x86_64.whl.metadata\n",
      "  Downloading httptools-0.6.1-cp311-cp311-macosx_10_9_x86_64.whl.metadata (3.6 kB)\n",
      "Collecting python-dotenv>=0.13 (from uvicorn[standard]>=0.18.3->chromadb)\n",
      "  Obtaining dependency information for python-dotenv>=0.13 from https://files.pythonhosted.org/packages/6a/3e/b68c118422ec867fa7ab88444e1274aa40681c606d59ac27de5a5588f082/python_dotenv-1.0.1-py3-none-any.whl.metadata\n",
      "  Downloading python_dotenv-1.0.1-py3-none-any.whl.metadata (23 kB)\n",
      "Collecting uvloop!=0.15.0,!=0.15.1,>=0.14.0 (from uvicorn[standard]>=0.18.3->chromadb)\n",
      "  Obtaining dependency information for uvloop!=0.15.0,!=0.15.1,>=0.14.0 from https://files.pythonhosted.org/packages/13/00/d0923d66d80c8717983493a4d7af747ce47f1c2147d82df057a846ba6bff/uvloop-0.19.0-cp311-cp311-macosx_10_9_x86_64.whl.metadata\n",
      "  Downloading uvloop-0.19.0-cp311-cp311-macosx_10_9_x86_64.whl.metadata (4.9 kB)\n",
      "Collecting watchfiles>=0.13 (from uvicorn[standard]>=0.18.3->chromadb)\n",
      "  Obtaining dependency information for watchfiles>=0.13 from https://files.pythonhosted.org/packages/57/b9/2667286003dd305b81d3a3aa824d3dfc63dacbf2a96faae09e72d953c430/watchfiles-0.21.0-cp311-cp311-macosx_10_7_x86_64.whl.metadata\n",
      "  Downloading watchfiles-0.21.0-cp311-cp311-macosx_10_7_x86_64.whl.metadata (4.9 kB)\n",
      "Collecting websockets>=10.4 (from uvicorn[standard]>=0.18.3->chromadb)\n",
      "  Obtaining dependency information for websockets>=10.4 from https://files.pythonhosted.org/packages/e4/2d/9a683359ad2ed11b2303a7a94800db19c61d33fa3bde271df09e99936022/websockets-12.0-cp311-cp311-macosx_10_9_x86_64.whl.metadata\n",
      "  Downloading websockets-12.0-cp311-cp311-macosx_10_9_x86_64.whl.metadata (6.6 kB)\n",
      "Collecting cachetools<6.0,>=2.0.0 (from google-auth>=1.0.1->kubernetes>=28.1.0->chromadb)\n",
      "  Obtaining dependency information for cachetools<6.0,>=2.0.0 from https://files.pythonhosted.org/packages/fb/2b/a64c2d25a37aeb921fddb929111413049fc5f8b9a4c1aefaffaafe768d54/cachetools-5.3.3-py3-none-any.whl.metadata\n",
      "  Downloading cachetools-5.3.3-py3-none-any.whl.metadata (5.3 kB)\n",
      "Collecting pyasn1-modules>=0.2.1 (from google-auth>=1.0.1->kubernetes>=28.1.0->chromadb)\n",
      "  Obtaining dependency information for pyasn1-modules>=0.2.1 from https://files.pythonhosted.org/packages/cd/8e/bea464350e1b8c6ed0da3a312659cb648804a08af6cacc6435867f74f8bd/pyasn1_modules-0.3.0-py2.py3-none-any.whl.metadata\n",
      "  Downloading pyasn1_modules-0.3.0-py2.py3-none-any.whl.metadata (3.6 kB)\n",
      "Collecting rsa<5,>=3.1.4 (from google-auth>=1.0.1->kubernetes>=28.1.0->chromadb)\n",
      "  Obtaining dependency information for rsa<5,>=3.1.4 from https://files.pythonhosted.org/packages/49/97/fa78e3d2f65c02c8e1268b9aba606569fe97f6c8f7c2d74394553347c145/rsa-4.9-py3-none-any.whl.metadata\n",
      "  Downloading rsa-4.9-py3-none-any.whl.metadata (4.2 kB)\n",
      "Requirement already satisfied: filelock in /Users/lucapetru/miniconda3/envs/DataScienceEnv/lib/python3.11/site-packages (from huggingface_hub<1.0,>=0.16.4->tokenizers>=0.13.2->chromadb) (3.13.1)\n",
      "Requirement already satisfied: fsspec>=2023.5.0 in /Users/lucapetru/miniconda3/envs/DataScienceEnv/lib/python3.11/site-packages (from huggingface_hub<1.0,>=0.16.4->tokenizers>=0.13.2->chromadb) (2023.10.0)\n",
      "Requirement already satisfied: zipp>=0.5 in /Users/lucapetru/miniconda3/envs/DataScienceEnv/lib/python3.11/site-packages (from importlib-metadata<7.0,>=6.0->opentelemetry-api>=1.2.0->chromadb) (3.17.0)\n",
      "Requirement already satisfied: anyio<5,>=3.4.0 in /Users/lucapetru/miniconda3/envs/DataScienceEnv/lib/python3.11/site-packages (from starlette<0.37.0,>=0.36.3->fastapi>=0.95.2->chromadb) (3.5.0)\n",
      "Collecting humanfriendly>=9.1 (from coloredlogs->onnxruntime>=1.14.1->chromadb)\n",
      "  Obtaining dependency information for humanfriendly>=9.1 from https://files.pythonhosted.org/packages/f0/0f/310fb31e39e2d734ccaa2c0fb981ee41f7bd5056ce9bc29b2248bd569169/humanfriendly-10.0-py2.py3-none-any.whl.metadata\n",
      "  Downloading humanfriendly-10.0-py2.py3-none-any.whl.metadata (9.2 kB)\n",
      "Requirement already satisfied: mpmath>=0.19 in /Users/lucapetru/miniconda3/envs/DataScienceEnv/lib/python3.11/site-packages (from sympy->onnxruntime>=1.14.1->chromadb) (1.3.0)\n",
      "Requirement already satisfied: sniffio>=1.1 in /Users/lucapetru/miniconda3/envs/DataScienceEnv/lib/python3.11/site-packages (from anyio<5,>=3.4.0->starlette<0.37.0,>=0.36.3->fastapi>=0.95.2->chromadb) (1.2.0)\n",
      "Collecting pyasn1<0.6.0,>=0.4.6 (from pyasn1-modules>=0.2.1->google-auth>=1.0.1->kubernetes>=28.1.0->chromadb)\n",
      "  Obtaining dependency information for pyasn1<0.6.0,>=0.4.6 from https://files.pythonhosted.org/packages/d1/75/4686d2872bf2fc0b37917cbc8bbf0dd3a5cdb0990799be1b9cbf1e1eb733/pyasn1-0.5.1-py2.py3-none-any.whl.metadata\n",
      "  Downloading pyasn1-0.5.1-py2.py3-none-any.whl.metadata (8.6 kB)\n",
      "Downloading chromadb-0.4.24-py3-none-any.whl (525 kB)\n",
      "\u001b[2K   \u001b[90m━━━━━━━━━━━━━━━━━━━━━━━━━━━━━━━━━━━━━━━━\u001b[0m \u001b[32m525.5/525.5 kB\u001b[0m \u001b[31m4.6 MB/s\u001b[0m eta \u001b[36m0:00:00\u001b[0ma \u001b[36m0:00:01\u001b[0m\n",
      "\u001b[?25hDownloading chroma_hnswlib-0.7.3-cp311-cp311-macosx_10_9_x86_64.whl (221 kB)\n",
      "\u001b[2K   \u001b[90m━━━━━━━━━━━━━━━━━━━━━━━━━━━━━━━━━━━━━━━━\u001b[0m \u001b[32m221.2/221.2 kB\u001b[0m \u001b[31m14.8 MB/s\u001b[0m eta \u001b[36m0:00:00\u001b[0m\n",
      "\u001b[?25hDownloading bcrypt-4.1.2-cp39-abi3-macosx_10_12_universal2.whl (528 kB)\n",
      "\u001b[2K   \u001b[90m━━━━━━━━━━━━━━━━━━━━━━━━━━━━━━━━━━━━━━━━\u001b[0m \u001b[32m528.5/528.5 kB\u001b[0m \u001b[31m10.2 MB/s\u001b[0m eta \u001b[36m0:00:00\u001b[0m00:01\u001b[0m\n",
      "\u001b[?25hDownloading build-1.1.0-py3-none-any.whl (19 kB)\n",
      "Downloading fastapi-0.110.0-py3-none-any.whl (92 kB)\n",
      "\u001b[2K   \u001b[90m━━━━━━━━━━━━━━━━━━━━━━━━━━━━━━━━━━━━━━━━\u001b[0m \u001b[32m92.1/92.1 kB\u001b[0m \u001b[31m3.3 MB/s\u001b[0m eta \u001b[36m0:00:00\u001b[0m\n",
      "\u001b[?25hDownloading grpcio-1.62.0-cp311-cp311-macosx_10_10_universal2.whl (10.0 MB)\n"
     ]
    },
    {
     "name": "stdout",
     "output_type": "stream",
     "text": [
      "\u001b[2K   \u001b[90m━━━━━━━━━━━━━━━━━━━━━━━━━━━━━━━━━━━━━━━━\u001b[0m \u001b[32m10.0/10.0 MB\u001b[0m \u001b[31m15.1 MB/s\u001b[0m eta \u001b[36m0:00:00\u001b[0m00:01\u001b[0m0:01\u001b[0m\n",
      "\u001b[?25hDownloading kubernetes-29.0.0-py2.py3-none-any.whl (1.6 MB)\n",
      "\u001b[2K   \u001b[90m━━━━━━━━━━━━━━━━━━━━━━━━━━━━━━━━━━━━━━━━\u001b[0m \u001b[32m1.6/1.6 MB\u001b[0m \u001b[31m14.4 MB/s\u001b[0m eta \u001b[36m0:00:00\u001b[0m00:01\u001b[0m00:01\u001b[0m\n",
      "\u001b[?25hDownloading mmh3-4.1.0-cp311-cp311-macosx_10_9_x86_64.whl (29 kB)\n",
      "Downloading onnxruntime-1.16.3-cp311-cp311-macosx_10_15_x86_64.whl (7.1 MB)\n",
      "\u001b[2K   \u001b[90m━━━━━━━━━━━━━━━━━━━━━━━━━━━━━━━━━━━━━━━━\u001b[0m \u001b[32m7.1/7.1 MB\u001b[0m \u001b[31m21.2 MB/s\u001b[0m eta \u001b[36m0:00:00\u001b[0m00:01\u001b[0m00:01\u001b[0m\n",
      "\u001b[?25hDownloading opentelemetry_api-1.23.0-py3-none-any.whl (58 kB)\n",
      "\u001b[2K   \u001b[90m━━━━━━━━━━━━━━━━━━━━━━━━━━━━━━━━━━━━━━━━\u001b[0m \u001b[32m58.4/58.4 kB\u001b[0m \u001b[31m1.9 MB/s\u001b[0m eta \u001b[36m0:00:00\u001b[0m\n",
      "\u001b[?25hDownloading opentelemetry_exporter_otlp_proto_grpc-1.23.0-py3-none-any.whl (18 kB)\n",
      "Downloading opentelemetry_exporter_otlp_proto_common-1.23.0-py3-none-any.whl (17 kB)\n",
      "Downloading opentelemetry_proto-1.23.0-py3-none-any.whl (50 kB)\n",
      "\u001b[2K   \u001b[90m━━━━━━━━━━━━━━━━━━━━━━━━━━━━━━━━━━━━━━━━\u001b[0m \u001b[32m50.8/50.8 kB\u001b[0m \u001b[31m1.7 MB/s\u001b[0m eta \u001b[36m0:00:00\u001b[0m\n",
      "\u001b[?25hDownloading opentelemetry_instrumentation_fastapi-0.44b0-py3-none-any.whl (11 kB)\n",
      "Downloading opentelemetry_instrumentation-0.44b0-py3-none-any.whl (28 kB)\n",
      "Downloading opentelemetry_instrumentation_asgi-0.44b0-py3-none-any.whl (14 kB)\n",
      "Downloading opentelemetry_semantic_conventions-0.44b0-py3-none-any.whl (36 kB)\n",
      "Downloading opentelemetry_util_http-0.44b0-py3-none-any.whl (6.9 kB)\n",
      "Downloading opentelemetry_sdk-1.23.0-py3-none-any.whl (105 kB)\n",
      "\u001b[2K   \u001b[90m━━━━━━━━━━━━━━━━━━━━━━━━━━━━━━━━━━━━━━━━\u001b[0m \u001b[32m105.7/105.7 kB\u001b[0m \u001b[31m3.6 MB/s\u001b[0m eta \u001b[36m0:00:00\u001b[0m\n",
      "\u001b[?25hDownloading overrides-7.7.0-py3-none-any.whl (17 kB)\n",
      "Downloading posthog-3.4.2-py2.py3-none-any.whl (41 kB)\n",
      "\u001b[2K   \u001b[90m━━━━━━━━━━━━━━━━━━━━━━━━━━━━━━━━━━━━━━━━\u001b[0m \u001b[32m41.2/41.2 kB\u001b[0m \u001b[31m1.4 MB/s\u001b[0m eta \u001b[36m0:00:00\u001b[0m\n",
      "\u001b[?25hDownloading pulsar_client-3.4.0-cp311-cp311-macosx_10_15_universal2.whl (10.9 MB)\n",
      "\u001b[2K   \u001b[90m━━━━━━━━━━━━━━━━━━━━━━━━━━━━━━━━━━━━━━━━\u001b[0m \u001b[32m10.9/10.9 MB\u001b[0m \u001b[31m17.8 MB/s\u001b[0m eta \u001b[36m0:00:00\u001b[0m00:01\u001b[0m0:01\u001b[0m\n",
      "\u001b[?25hDownloading typer-0.9.0-py3-none-any.whl (45 kB)\n",
      "\u001b[2K   \u001b[90m━━━━━━━━━━━━━━━━━━━━━━━━━━━━━━━━━━━━━━━━\u001b[0m \u001b[32m45.9/45.9 kB\u001b[0m \u001b[31m1.6 MB/s\u001b[0m eta \u001b[36m0:00:00\u001b[0m\n",
      "\u001b[?25hDownloading typing_extensions-4.10.0-py3-none-any.whl (33 kB)\n",
      "Downloading importlib_resources-6.1.2-py3-none-any.whl (34 kB)\n",
      "Downloading Deprecated-1.2.14-py2.py3-none-any.whl (9.6 kB)\n",
      "Downloading google_auth-2.28.1-py2.py3-none-any.whl (186 kB)\n",
      "\u001b[2K   \u001b[90m━━━━━━━━━━━━━━━━━━━━━━━━━━━━━━━━━━━━━━━━\u001b[0m \u001b[32m186.9/186.9 kB\u001b[0m \u001b[31m7.0 MB/s\u001b[0m eta \u001b[36m0:00:00\u001b[0m\n",
      "\u001b[?25hDownloading googleapis_common_protos-1.62.0-py2.py3-none-any.whl (228 kB)\n",
      "\u001b[2K   \u001b[90m━━━━━━━━━━━━━━━━━━━━━━━━━━━━━━━━━━━━━━━━\u001b[0m \u001b[32m228.7/228.7 kB\u001b[0m \u001b[31m7.7 MB/s\u001b[0m eta \u001b[36m0:00:00\u001b[0m\n",
      "\u001b[?25hDownloading httptools-0.6.1-cp311-cp311-macosx_10_9_x86_64.whl (75 kB)\n",
      "\u001b[2K   \u001b[90m━━━━━━━━━━━━━━━━━━━━━━━━━━━━━━━━━━━━━━━━\u001b[0m \u001b[32m75.6/75.6 kB\u001b[0m \u001b[31m2.9 MB/s\u001b[0m eta \u001b[36m0:00:00\u001b[0m\n",
      "\u001b[?25hDownloading monotonic-1.6-py2.py3-none-any.whl (8.2 kB)\n",
      "Downloading oauthlib-3.2.2-py3-none-any.whl (151 kB)\n",
      "\u001b[2K   \u001b[90m━━━━━━━━━━━━━━━━━━━━━━━━━━━━━━━━━━━━━━━━\u001b[0m \u001b[32m151.7/151.7 kB\u001b[0m \u001b[31m5.4 MB/s\u001b[0m eta \u001b[36m0:00:00\u001b[0m\n",
      "\u001b[?25hDownloading python_dotenv-1.0.1-py3-none-any.whl (19 kB)\n",
      "Downloading starlette-0.36.3-py3-none-any.whl (71 kB)\n",
      "\u001b[2K   \u001b[90m━━━━━━━━━━━━━━━━━━━━━━━━━━━━━━━━━━━━━━━━\u001b[0m \u001b[32m71.5/71.5 kB\u001b[0m \u001b[31m2.9 MB/s\u001b[0m eta \u001b[36m0:00:00\u001b[0m\n",
      "\u001b[?25hDownloading uvloop-0.19.0-cp311-cp311-macosx_10_9_x86_64.whl (746 kB)\n",
      "\u001b[2K   \u001b[90m━━━━━━━━━━━━━━━━━━━━━━━━━━━━━━━━━━━━━━━━\u001b[0m \u001b[32m746.4/746.4 kB\u001b[0m \u001b[31m19.2 MB/s\u001b[0m eta \u001b[36m0:00:00\u001b[0m00:01\u001b[0m\n",
      "\u001b[?25hDownloading watchfiles-0.21.0-cp311-cp311-macosx_10_7_x86_64.whl (428 kB)\n",
      "\u001b[2K   \u001b[90m━━━━━━━━━━━━━━━━━━━━━━━━━━━━━━━━━━━━━━━━\u001b[0m \u001b[32m428.2/428.2 kB\u001b[0m \u001b[31m14.5 MB/s\u001b[0m eta \u001b[36m0:00:00\u001b[0m\n",
      "\u001b[?25hDownloading websockets-12.0-cp311-cp311-macosx_10_9_x86_64.whl (121 kB)\n",
      "\u001b[2K   \u001b[90m━━━━━━━━━━━━━━━━━━━━━━━━━━━━━━━━━━━━━━━━\u001b[0m \u001b[32m121.3/121.3 kB\u001b[0m \u001b[31m4.8 MB/s\u001b[0m eta \u001b[36m0:00:00\u001b[0m\n",
      "\u001b[?25hDownloading coloredlogs-15.0.1-py2.py3-none-any.whl (46 kB)\n",
      "\u001b[2K   \u001b[90m━━━━━━━━━━━━━━━━━━━━━━━━━━━━━━━━━━━━━━━━\u001b[0m \u001b[32m46.0/46.0 kB\u001b[0m \u001b[31m1.5 MB/s\u001b[0m eta \u001b[36m0:00:00\u001b[0m\n",
      "\u001b[?25hDownloading flatbuffers-23.5.26-py2.py3-none-any.whl (26 kB)\n",
      "Downloading pyproject_hooks-1.0.0-py3-none-any.whl (9.3 kB)\n",
      "Downloading requests_oauthlib-1.3.1-py2.py3-none-any.whl (23 kB)\n",
      "Downloading uvicorn-0.27.1-py3-none-any.whl (60 kB)\n",
      "\u001b[2K   \u001b[90m━━━━━━━━━━━━━━━━━━━━━━━━━━━━━━━━━━━━━━━━\u001b[0m \u001b[32m60.8/60.8 kB\u001b[0m \u001b[31m2.4 MB/s\u001b[0m eta \u001b[36m0:00:00\u001b[0m\n",
      "\u001b[?25hDownloading asgiref-3.7.2-py3-none-any.whl (24 kB)\n",
      "Downloading cachetools-5.3.3-py3-none-any.whl (9.3 kB)\n",
      "Downloading humanfriendly-10.0-py2.py3-none-any.whl (86 kB)\n",
      "\u001b[2K   \u001b[90m━━━━━━━━━━━━━━━━━━━━━━━━━━━━━━━━━━━━━━━━\u001b[0m \u001b[32m86.8/86.8 kB\u001b[0m \u001b[31m3.4 MB/s\u001b[0m eta \u001b[36m0:00:00\u001b[0m\n",
      "\u001b[?25hDownloading pyasn1_modules-0.3.0-py2.py3-none-any.whl (181 kB)\n",
      "\u001b[2K   \u001b[90m━━━━━━━━━━━━━━━━━━━━━━━━━━━━━━━━━━━━━━━━\u001b[0m \u001b[32m181.3/181.3 kB\u001b[0m \u001b[31m6.2 MB/s\u001b[0m eta \u001b[36m0:00:00\u001b[0m\n",
      "\u001b[?25hDownloading rsa-4.9-py3-none-any.whl (34 kB)\n",
      "Downloading wrapt-1.16.0-cp311-cp311-macosx_10_9_x86_64.whl (37 kB)\n",
      "Downloading pyasn1-0.5.1-py2.py3-none-any.whl (84 kB)\n",
      "\u001b[2K   \u001b[90m━━━━━━━━━━━━━━━━━━━━━━━━━━━━━━━━━━━━━━━━\u001b[0m \u001b[32m84.9/84.9 kB\u001b[0m \u001b[31m3.4 MB/s\u001b[0m eta \u001b[36m0:00:00\u001b[0m\n",
      "\u001b[?25hBuilding wheels for collected packages: pypika\n",
      "  Building wheel for pypika (pyproject.toml) ... \u001b[?25ldone\n",
      "\u001b[?25h  Created wheel for pypika: filename=PyPika-0.48.9-py2.py3-none-any.whl size=53723 sha256=f78f6b0cf4cb7d6f4a3a08218acd20578a4ff8f3ce171d4311d495f066d0ba90\n",
      "  Stored in directory: /Users/lucapetru/Library/Caches/pip/wheels/a3/01/bd/4c40ceb9d5354160cb186dcc153360f4ab7eb23e2b24daf96d\n",
      "Successfully built pypika\n",
      "Installing collected packages: pypika, monotonic, mmh3, flatbuffers, wrapt, websockets, uvloop, uvicorn, typing-extensions, python-dotenv, pyproject_hooks, pyasn1, pulsar-client, overrides, opentelemetry-util-http, opentelemetry-semantic-conventions, opentelemetry-proto, oauthlib, importlib-resources, humanfriendly, httptools, grpcio, googleapis-common-protos, chroma-hnswlib, cachetools, bcrypt, asgiref, watchfiles, typer, starlette, rsa, requests-oauthlib, pyasn1-modules, posthog, opentelemetry-exporter-otlp-proto-common, deprecated, coloredlogs, build, opentelemetry-api, onnxruntime, google-auth, opentelemetry-sdk, opentelemetry-instrumentation, kubernetes, fastapi, opentelemetry-instrumentation-asgi, opentelemetry-exporter-otlp-proto-grpc, opentelemetry-instrumentation-fastapi, chromadb\n",
      "  Attempting uninstall: typing-extensions\n",
      "    Found existing installation: typing_extensions 4.7.1\n",
      "    Uninstalling typing_extensions-4.7.1:\n",
      "      Successfully uninstalled typing_extensions-4.7.1\n",
      "Successfully installed asgiref-3.7.2 bcrypt-4.1.2 build-1.1.0 cachetools-5.3.3 chroma-hnswlib-0.7.3 chromadb-0.4.24 coloredlogs-15.0.1 deprecated-1.2.14 fastapi-0.110.0 flatbuffers-23.5.26 google-auth-2.28.1 googleapis-common-protos-1.62.0 grpcio-1.62.0 httptools-0.6.1 humanfriendly-10.0 importlib-resources-6.1.2 kubernetes-29.0.0 mmh3-4.1.0 monotonic-1.6 oauthlib-3.2.2 onnxruntime-1.16.3 opentelemetry-api-1.23.0 opentelemetry-exporter-otlp-proto-common-1.23.0 opentelemetry-exporter-otlp-proto-grpc-1.23.0 opentelemetry-instrumentation-0.44b0 opentelemetry-instrumentation-asgi-0.44b0 opentelemetry-instrumentation-fastapi-0.44b0 opentelemetry-proto-1.23.0 opentelemetry-sdk-1.23.0 opentelemetry-semantic-conventions-0.44b0 opentelemetry-util-http-0.44b0 overrides-7.7.0 posthog-3.4.2 pulsar-client-3.4.0 pyasn1-0.5.1 pyasn1-modules-0.3.0 pypika-0.48.9 pyproject_hooks-1.0.0 python-dotenv-1.0.1 requests-oauthlib-1.3.1 rsa-4.9 starlette-0.36.3 typer-0.9.0 typing-extensions-4.10.0 uvicorn-0.27.1 uvloop-0.19.0 watchfiles-0.21.0 websockets-12.0 wrapt-1.16.0\n"
     ]
    }
   ],
   "source": [
    "!pip install chromadb"
   ]
  },
  {
   "cell_type": "markdown",
   "id": "7578d8c3",
   "metadata": {},
   "source": [
    "# Add embeddings to Vector DB"
   ]
  },
  {
   "cell_type": "code",
   "execution_count": 85,
   "id": "8db6b35f",
   "metadata": {},
   "outputs": [],
   "source": [
    "import chromadb\n",
    "client = chromadb.PersistentClient('.')"
   ]
  },
  {
   "cell_type": "code",
   "execution_count": 99,
   "id": "6a6ec656",
   "metadata": {},
   "outputs": [],
   "source": [
    " collection = client.create_collection(\n",
    "        name=\"Restaurant_DB\",\n",
    "        metadata={\"hnsw:space\": \"cosine\"} # l2 is the default\n",
    "    )"
   ]
  },
  {
   "cell_type": "code",
   "execution_count": 100,
   "id": "0abda67a",
   "metadata": {},
   "outputs": [],
   "source": [
    "collection.add(\n",
    "    embeddings=embeddings.tolist(),\n",
    "    documents=context_list,\n",
    "    ids=['id'+str(i) for i in range(len(embeddings))]\n",
    ")"
   ]
  },
  {
   "cell_type": "markdown",
   "id": "89252261",
   "metadata": {},
   "source": [
    "# Inference "
   ]
  },
  {
   "cell_type": "code",
   "execution_count": 136,
   "id": "2f0912dc",
   "metadata": {},
   "outputs": [],
   "source": [
    "def get_answer(query,n,collection,model_emb,model_llm,openAI):\n",
    "    emb_query = model_emb.encode('query: '+query,normalize_embeddings=True)\n",
    "    res = collection.query(\n",
    "        query_embeddings=emb_query.tolist(),\n",
    "        n_results = n\n",
    "    ) \n",
    "    context = ''.join(con[9:] for con in res['documents'][0])\n",
    "    \n",
    "    prompt = f'''You are a waiter for a restaurant. \n",
    "    You will be provided with a question and context. \n",
    "    The context will contain information about the menu. \n",
    "    Answer the question only using the context provided; if the context does not contain the infromation please answer that you dont know the answer to the question.\n",
    "    \n",
    "    Question: {query}\n",
    "    Context: {context}'''\n",
    "    #print(prompt)\n",
    "    \n",
    "    if model_llm:\n",
    "        response = model_llm(prompt,return_full_text=False)\n",
    "        return response,context\n",
    "    elif openAI:\n",
    "        res = openAI.chat.completions.create(\n",
    "          model=\"gpt-3.5-turbo\",\n",
    "          messages=[\n",
    "            {\"role\": \"system\", \"content\": \"You are a helpful assistant.\"},\n",
    "            {\"role\": \"user\", \"content\": prompt},\n",
    "          ]\n",
    "        )\n",
    "\n",
    "        content = res.choices[0].message.content\n",
    "        return content,context\n",
    "    else: \n",
    "        print('no llm')\n",
    "        return prompt\n",
    "\n",
    "    "
   ]
  },
  {
   "cell_type": "code",
   "execution_count": null,
   "id": "aa6a0226",
   "metadata": {},
   "outputs": [],
   "source": [
    "import chromadb\n",
    "client = chromadb.PersistentClient('.')"
   ]
  },
  {
   "cell_type": "code",
   "execution_count": null,
   "id": "31d3becf",
   "metadata": {},
   "outputs": [],
   "source": [
    "collection = client.get_collection('Restaurant_DB')"
   ]
  },
  {
   "cell_type": "code",
   "execution_count": 164,
   "id": "9770afbe",
   "metadata": {},
   "outputs": [],
   "source": [
    "from transformers import pipeline\n",
    "from sentence_transformers import SentenceTransformer\n",
    "model_emb = SentenceTransformer('intfloat/multilingual-e5-large')\n",
    "#pipe_llm = pipeline(\"text-generation\", model=\"mistralai/Mistral-7B-v0.1\")"
   ]
  },
  {
   "cell_type": "code",
   "execution_count": 127,
   "id": "9a7fa349",
   "metadata": {},
   "outputs": [],
   "source": [
    "'''from openai import OpenAI\n",
    "\n",
    "client = OpenAI(api_key='.....')'''"
   ]
  },
  {
   "cell_type": "code",
   "execution_count": null,
   "id": "8cf9041c",
   "metadata": {},
   "outputs": [],
   "source": []
  },
  {
   "cell_type": "code",
   "execution_count": 165,
   "id": "d182e91a",
   "metadata": {},
   "outputs": [],
   "source": [
    "query = 'do you still have the popcorn chicken?'"
   ]
  },
  {
   "cell_type": "code",
   "execution_count": 166,
   "id": "8d30a771",
   "metadata": {},
   "outputs": [
    {
     "name": "stdout",
     "output_type": "stream",
     "text": [
      "no llm\n"
     ]
    }
   ],
   "source": [
    "con = get_answer(query,3,collection,model_emb,model_llm=None,openAI=None)"
   ]
  },
  {
   "cell_type": "code",
   "execution_count": 167,
   "id": "17afd1ee",
   "metadata": {
    "scrolled": true
   },
   "outputs": [
    {
     "data": {
      "text/plain": [
       "'You are a waiter for a restaurant. \\n    You will be provided with a question and context. \\n    The context will contain information about the menu. \\n    Answer the question only using the context provided; if the context does not contain the infromation please answer that you dont know the answer to the question.\\n    \\n    Question: do you still have the popcorn chicken?\\n    Context: Chicken: C1: name: Original Recipe, Chicken: C1: price: 3.5, Chicken: C1: moreInfo: nutritionalInfo: kcal: 400, Chicken: C1: moreInfo: nutritionalInfo: fat: 22, Chicken: C1: moreInfo: nutritionalInfo: protein: 28, Chicken: C1: moreInfo: nutritionalInfo: itemId: 4, Chicken: C1: moreInfo: nutritionalInfo: allergens: 0: wheat, Chicken: C1: moreInfo: nutritionalInfo: allergens: 1: soy, Chicken: C1: moreInfo: available: False, Chicken: C2: name: Popcorn Chicken, Chicken: C1: moreInfo: available: False, Chicken: C2: name: Popcorn Chicken, Chicken: C2: price: 4, Chicken: C2: moreInfo: nutritionalInfo: kcal: 350, Chicken: C2: moreInfo: nutritionalInfo: fat: 20, Chicken: C2: moreInfo: nutritionalInfo: protein: 25, Chicken: C2: moreInfo: nutritionalInfo: itemId: 6, Chicken: C2: moreInfo: nutritionalInfo: allergens: 0: wheat, Chicken: C2: moreInfo: nutritionalInfo: allergens: 1: soy, Chicken: C2: moreInfo: available: False, Chicken: C4: name: Hot Wings, Chicken: C4: price: 3, Chicken: C7: moreInfo: nutritionalInfo: allergens: 0: , Chicken: C7: moreInfo: available: False, Chicken: C8: name: Tender Chicken, Chicken: C8: price: 15, Chicken: C8: moreInfo: nutritionalInfo: kcal: 150, Chicken: C8: moreInfo: nutritionalInfo: fat: 100, Chicken: C8: moreInfo: nutritionalInfo: protein: 10, Chicken: C8: moreInfo: nutritionalInfo: itemId: 81, Chicken: C8: moreInfo: nutritionalInfo: allergens: 0: , Chicken: C8: moreInfo: available: False, Drinks: D1: name: Iced Tea, Drinks: D1: price: 2.8, '"
      ]
     },
     "execution_count": 167,
     "metadata": {},
     "output_type": "execute_result"
    }
   ],
   "source": [
    "con"
   ]
  },
  {
   "cell_type": "markdown",
   "id": "91ffad17",
   "metadata": {},
   "source": [
    "## Discussion"
   ]
  },
  {
   "cell_type": "markdown",
   "id": "bed27aad",
   "metadata": {},
   "source": [
    "the function get_answer() is the only function needed, other wise the Inference chapter covers how to use the RAG. Sadly i couldnt use Mistral due to my pc not having enough ram, however i used gpt 3.5 a bit to test it and get the answers below."
   ]
  },
  {
   "cell_type": "markdown",
   "id": "232c2d3b",
   "metadata": {},
   "source": [
    "- do you have cola? answer: I am sorry, but based on the information provided in the context, there is no mention of cola on the drinks menu.\n",
    "- How many calories does the Colonel have? answer: The Colonel Burger has 150 calories.\n",
    "- Can I get a Whopper? answer: Sorry, the Whopper is not available on the menu.\n",
    "- do you still have the popcorn chicken? answer: I'm sorry, but the Popcorn Chicken is not available."
   ]
  },
  {
   "cell_type": "markdown",
   "id": "6bbd085a",
   "metadata": {},
   "source": [
    "performs pretty well when asked about factual information about the food. On the other side it performs not that well when given an assertion for example: Give me a Veggie Tender, medium, with salad. I believe this is because the context returned is for the veggie tender however this context also can contain referecne to other products like 'any side dish' and the context for the side dishes is not returned so it cant know that salad is a side dish. I think an improvement can be made here where there can be a mapping between these."
   ]
  },
  {
   "cell_type": "markdown",
   "id": "6c9f0353",
   "metadata": {},
   "source": [
    "the vector db stores the embeddings for the contexts (the json file parsed), however when one adds a query the embedding for that query has to be made which can take a few seconds; otherwise the cosine similarity between the embedding of the query and those of the contexts and the generation of the prompt is almost instant."
   ]
  },
  {
   "cell_type": "markdown",
   "id": "21158366",
   "metadata": {},
   "source": [
    "With a bit more time i wouldve liked to have more of a thought of what better way to parse the json to extract context that makes even more sense and can produce even more meaningful embeddings."
   ]
  }
 ],
 "metadata": {
  "kernelspec": {
   "display_name": "Python 3 (ipykernel)",
   "language": "python",
   "name": "python3"
  },
  "language_info": {
   "codemirror_mode": {
    "name": "ipython",
    "version": 3
   },
   "file_extension": ".py",
   "mimetype": "text/x-python",
   "name": "python",
   "nbconvert_exporter": "python",
   "pygments_lexer": "ipython3",
   "version": "3.11.5"
  }
 },
 "nbformat": 4,
 "nbformat_minor": 5
}
